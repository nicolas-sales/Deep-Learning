{
 "cells": [
  {
   "cell_type": "code",
   "execution_count": 1,
   "id": "a07958ac-02d4-4009-837b-35e8a09fc49e",
   "metadata": {},
   "outputs": [],
   "source": [
    "import tensorflow as tf"
   ]
  },
  {
   "cell_type": "markdown",
   "id": "8d515c78-6122-4dbf-95b9-e00fa4098f04",
   "metadata": {},
   "source": [
    "# Classificateur d'images"
   ]
  },
  {
   "cell_type": "code",
   "execution_count": 2,
   "id": "b9964101-9c46-4972-b9b1-746b3d880516",
   "metadata": {},
   "outputs": [],
   "source": [
    "fashion_mnist = tf.keras.datasets.fashion_mnist.load_data()"
   ]
  },
  {
   "cell_type": "markdown",
   "id": "1f06ad32-10c2-4e07-93c9-f089bb9a1713",
   "metadata": {},
   "source": [
    "## train : 60 000 images, test : 10 000 images, validation : 5000 dernières images de train"
   ]
  },
  {
   "cell_type": "code",
   "execution_count": 4,
   "id": "bcdabca8-b788-4f9a-98dc-76611c13edb6",
   "metadata": {},
   "outputs": [],
   "source": [
    "(X_train_full, y_train_full), (X_test, y_test) = fashion_mnist"
   ]
  },
  {
   "cell_type": "code",
   "execution_count": 5,
   "id": "34235722-50e6-4505-8370-29e2ab99a724",
   "metadata": {},
   "outputs": [],
   "source": [
    "X_train, y_train = X_train_full[:-5000], y_train_full[:-5000]\n",
    "X_valid, y_valid = X_train_full[-5000:], y_train_full[-5000:]"
   ]
  },
  {
   "cell_type": "code",
   "execution_count": 6,
   "id": "47a9b43c-9273-49e0-b4c1-45fce9adc50d",
   "metadata": {},
   "outputs": [
    {
     "data": {
      "text/plain": [
       "(55000, 28, 28)"
      ]
     },
     "execution_count": 6,
     "metadata": {},
     "output_type": "execute_result"
    }
   ],
   "source": [
    "X_train.shape"
   ]
  },
  {
   "cell_type": "code",
   "execution_count": 7,
   "id": "95feafdd-fc52-4ab3-b5b7-a557124bb36c",
   "metadata": {},
   "outputs": [
    {
     "data": {
      "text/plain": [
       "dtype('uint8')"
      ]
     },
     "execution_count": 7,
     "metadata": {},
     "output_type": "execute_result"
    }
   ],
   "source": [
    "X_train.dtype"
   ]
  },
  {
   "cell_type": "markdown",
   "id": "94fe26fc-4d32-4106-a9c0-f4ef79c6fc6e",
   "metadata": {},
   "source": [
    "## Normalisation"
   ]
  },
  {
   "cell_type": "code",
   "execution_count": 9,
   "id": "01bc7adf-daca-4e53-8270-7a342ce1b44d",
   "metadata": {},
   "outputs": [],
   "source": [
    "X_train, X_valid, X_test = X_train/255., X_valid/255., X_test/255."
   ]
  },
  {
   "cell_type": "markdown",
   "id": "d5ad9ffa-a58b-4ec5-8b01-a210fd0dae75",
   "metadata": {},
   "source": [
    "# Nom des classes"
   ]
  },
  {
   "cell_type": "code",
   "execution_count": 11,
   "id": "becf5a1b-0c61-4fab-9164-dcd9e3d0b040",
   "metadata": {},
   "outputs": [],
   "source": [
    "class_names = ['T_shirt/top', 'Trouser', 'Pullover', 'Dress', 'Coat', 'Sandak', 'Shirt', 'Sneaker', 'Bag', 'Ankle boot']"
   ]
  },
  {
   "cell_type": "code",
   "execution_count": 12,
   "id": "e2871717-86c3-4c63-aca1-3689b6dda7ad",
   "metadata": {},
   "outputs": [
    {
     "data": {
      "text/plain": [
       "'Ankle boot'"
      ]
     },
     "execution_count": 12,
     "metadata": {},
     "output_type": "execute_result"
    }
   ],
   "source": [
    "class_names[y_train[0]]"
   ]
  },
  {
   "cell_type": "code",
   "execution_count": 13,
   "id": "91da3557-7aa2-4ddd-9c84-0071a16ddba2",
   "metadata": {},
   "outputs": [
    {
     "data": {
      "text/plain": [
       "9"
      ]
     },
     "execution_count": 13,
     "metadata": {},
     "output_type": "execute_result"
    }
   ],
   "source": [
    "y_train[0]"
   ]
  },
  {
   "cell_type": "markdown",
   "id": "dc1727cd-ef67-49a5-8421-88ddd44bf1fa",
   "metadata": {},
   "source": [
    "La première image du jeu de données montre 'Ankle boot'"
   ]
  },
  {
   "cell_type": "markdown",
   "id": "a97414a2-a233-42ce-8c1c-01077e66b257",
   "metadata": {},
   "source": [
    "# Model"
   ]
  },
  {
   "cell_type": "code",
   "execution_count": 16,
   "id": "ff8baacb-985f-4249-b456-3a7fe492c137",
   "metadata": {},
   "outputs": [],
   "source": [
    "tf.random.set_seed(42)\n",
    "model = tf.keras.Sequential()\n",
    "model.add(tf.keras.layers.Input(shape=(28,28)))\n",
    "model.add(tf.keras.layers.Flatten())\n",
    "model.add(tf.keras.layers.Dense(300, activation='relu'))\n",
    "model.add(tf.keras.layers.Dense(100, activation='relu'))\n",
    "model.add(tf.keras.layers.Dense(10, activation='softmax'))"
   ]
  },
  {
   "cell_type": "code",
   "execution_count": 17,
   "id": "a45122a7-01f8-49c1-81c6-61a405e1a9d9",
   "metadata": {},
   "outputs": [
    {
     "name": "stderr",
     "output_type": "stream",
     "text": [
      "C:\\Users\\nicolas.sales\\AppData\\Local\\anaconda3\\Lib\\site-packages\\keras\\src\\layers\\reshaping\\flatten.py:37: UserWarning: Do not pass an `input_shape`/`input_dim` argument to a layer. When using Sequential models, prefer using an `Input(shape)` object as the first layer in the model instead.\n",
      "  super().__init__(**kwargs)\n"
     ]
    }
   ],
   "source": [
    "model = tf.keras.Sequential([\n",
    "    tf.keras.layers.Flatten(input_shape=[28,28]),\n",
    "    tf.keras.layers.Dense(300, activation='relu'),\n",
    "    tf.keras.layers.Dense(100, activation='relu'),\n",
    "    tf.keras.layers.Dense(10, activation='softmax')\n",
    "])"
   ]
  },
  {
   "cell_type": "code",
   "execution_count": 18,
   "id": "bf478e27-6f71-4ae4-9deb-d07818448661",
   "metadata": {},
   "outputs": [
    {
     "data": {
      "text/html": [
       "<pre style=\"white-space:pre;overflow-x:auto;line-height:normal;font-family:Menlo,'DejaVu Sans Mono',consolas,'Courier New',monospace\"><span style=\"font-weight: bold\">Model: \"sequential_1\"</span>\n",
       "</pre>\n"
      ],
      "text/plain": [
       "\u001b[1mModel: \"sequential_1\"\u001b[0m\n"
      ]
     },
     "metadata": {},
     "output_type": "display_data"
    },
    {
     "data": {
      "text/html": [
       "<pre style=\"white-space:pre;overflow-x:auto;line-height:normal;font-family:Menlo,'DejaVu Sans Mono',consolas,'Courier New',monospace\">┏━━━━━━━━━━━━━━━━━━━━━━━━━━━━━━━━━┳━━━━━━━━━━━━━━━━━━━━━━━━┳━━━━━━━━━━━━━━━┓\n",
       "┃<span style=\"font-weight: bold\"> Layer (type)                    </span>┃<span style=\"font-weight: bold\"> Output Shape           </span>┃<span style=\"font-weight: bold\">       Param # </span>┃\n",
       "┡━━━━━━━━━━━━━━━━━━━━━━━━━━━━━━━━━╇━━━━━━━━━━━━━━━━━━━━━━━━╇━━━━━━━━━━━━━━━┩\n",
       "│ flatten_1 (<span style=\"color: #0087ff; text-decoration-color: #0087ff\">Flatten</span>)             │ (<span style=\"color: #00d7ff; text-decoration-color: #00d7ff\">None</span>, <span style=\"color: #00af00; text-decoration-color: #00af00\">784</span>)            │             <span style=\"color: #00af00; text-decoration-color: #00af00\">0</span> │\n",
       "├─────────────────────────────────┼────────────────────────┼───────────────┤\n",
       "│ dense_3 (<span style=\"color: #0087ff; text-decoration-color: #0087ff\">Dense</span>)                 │ (<span style=\"color: #00d7ff; text-decoration-color: #00d7ff\">None</span>, <span style=\"color: #00af00; text-decoration-color: #00af00\">300</span>)            │       <span style=\"color: #00af00; text-decoration-color: #00af00\">235,500</span> │\n",
       "├─────────────────────────────────┼────────────────────────┼───────────────┤\n",
       "│ dense_4 (<span style=\"color: #0087ff; text-decoration-color: #0087ff\">Dense</span>)                 │ (<span style=\"color: #00d7ff; text-decoration-color: #00d7ff\">None</span>, <span style=\"color: #00af00; text-decoration-color: #00af00\">100</span>)            │        <span style=\"color: #00af00; text-decoration-color: #00af00\">30,100</span> │\n",
       "├─────────────────────────────────┼────────────────────────┼───────────────┤\n",
       "│ dense_5 (<span style=\"color: #0087ff; text-decoration-color: #0087ff\">Dense</span>)                 │ (<span style=\"color: #00d7ff; text-decoration-color: #00d7ff\">None</span>, <span style=\"color: #00af00; text-decoration-color: #00af00\">10</span>)             │         <span style=\"color: #00af00; text-decoration-color: #00af00\">1,010</span> │\n",
       "└─────────────────────────────────┴────────────────────────┴───────────────┘\n",
       "</pre>\n"
      ],
      "text/plain": [
       "┏━━━━━━━━━━━━━━━━━━━━━━━━━━━━━━━━━┳━━━━━━━━━━━━━━━━━━━━━━━━┳━━━━━━━━━━━━━━━┓\n",
       "┃\u001b[1m \u001b[0m\u001b[1mLayer (type)                   \u001b[0m\u001b[1m \u001b[0m┃\u001b[1m \u001b[0m\u001b[1mOutput Shape          \u001b[0m\u001b[1m \u001b[0m┃\u001b[1m \u001b[0m\u001b[1m      Param #\u001b[0m\u001b[1m \u001b[0m┃\n",
       "┡━━━━━━━━━━━━━━━━━━━━━━━━━━━━━━━━━╇━━━━━━━━━━━━━━━━━━━━━━━━╇━━━━━━━━━━━━━━━┩\n",
       "│ flatten_1 (\u001b[38;5;33mFlatten\u001b[0m)             │ (\u001b[38;5;45mNone\u001b[0m, \u001b[38;5;34m784\u001b[0m)            │             \u001b[38;5;34m0\u001b[0m │\n",
       "├─────────────────────────────────┼────────────────────────┼───────────────┤\n",
       "│ dense_3 (\u001b[38;5;33mDense\u001b[0m)                 │ (\u001b[38;5;45mNone\u001b[0m, \u001b[38;5;34m300\u001b[0m)            │       \u001b[38;5;34m235,500\u001b[0m │\n",
       "├─────────────────────────────────┼────────────────────────┼───────────────┤\n",
       "│ dense_4 (\u001b[38;5;33mDense\u001b[0m)                 │ (\u001b[38;5;45mNone\u001b[0m, \u001b[38;5;34m100\u001b[0m)            │        \u001b[38;5;34m30,100\u001b[0m │\n",
       "├─────────────────────────────────┼────────────────────────┼───────────────┤\n",
       "│ dense_5 (\u001b[38;5;33mDense\u001b[0m)                 │ (\u001b[38;5;45mNone\u001b[0m, \u001b[38;5;34m10\u001b[0m)             │         \u001b[38;5;34m1,010\u001b[0m │\n",
       "└─────────────────────────────────┴────────────────────────┴───────────────┘\n"
      ]
     },
     "metadata": {},
     "output_type": "display_data"
    },
    {
     "data": {
      "text/html": [
       "<pre style=\"white-space:pre;overflow-x:auto;line-height:normal;font-family:Menlo,'DejaVu Sans Mono',consolas,'Courier New',monospace\"><span style=\"font-weight: bold\"> Total params: </span><span style=\"color: #00af00; text-decoration-color: #00af00\">266,610</span> (1.02 MB)\n",
       "</pre>\n"
      ],
      "text/plain": [
       "\u001b[1m Total params: \u001b[0m\u001b[38;5;34m266,610\u001b[0m (1.02 MB)\n"
      ]
     },
     "metadata": {},
     "output_type": "display_data"
    },
    {
     "data": {
      "text/html": [
       "<pre style=\"white-space:pre;overflow-x:auto;line-height:normal;font-family:Menlo,'DejaVu Sans Mono',consolas,'Courier New',monospace\"><span style=\"font-weight: bold\"> Trainable params: </span><span style=\"color: #00af00; text-decoration-color: #00af00\">266,610</span> (1.02 MB)\n",
       "</pre>\n"
      ],
      "text/plain": [
       "\u001b[1m Trainable params: \u001b[0m\u001b[38;5;34m266,610\u001b[0m (1.02 MB)\n"
      ]
     },
     "metadata": {},
     "output_type": "display_data"
    },
    {
     "data": {
      "text/html": [
       "<pre style=\"white-space:pre;overflow-x:auto;line-height:normal;font-family:Menlo,'DejaVu Sans Mono',consolas,'Courier New',monospace\"><span style=\"font-weight: bold\"> Non-trainable params: </span><span style=\"color: #00af00; text-decoration-color: #00af00\">0</span> (0.00 B)\n",
       "</pre>\n"
      ],
      "text/plain": [
       "\u001b[1m Non-trainable params: \u001b[0m\u001b[38;5;34m0\u001b[0m (0.00 B)\n"
      ]
     },
     "metadata": {},
     "output_type": "display_data"
    }
   ],
   "source": [
    "model.summary()"
   ]
  },
  {
   "cell_type": "code",
   "execution_count": 19,
   "id": "074accc9-ce77-4fef-9ec9-5fbd5859cb02",
   "metadata": {},
   "outputs": [
    {
     "data": {
      "text/plain": [
       "[<Flatten name=flatten_1, built=True>,\n",
       " <Dense name=dense_3, built=True>,\n",
       " <Dense name=dense_4, built=True>,\n",
       " <Dense name=dense_5, built=True>]"
      ]
     },
     "execution_count": 19,
     "metadata": {},
     "output_type": "execute_result"
    }
   ],
   "source": [
    "model.layers"
   ]
  },
  {
   "cell_type": "code",
   "execution_count": 20,
   "id": "bcb89738-0830-46f0-900a-7a2c7d2b2870",
   "metadata": {},
   "outputs": [],
   "source": [
    "hidden1 = model.layers[1]"
   ]
  },
  {
   "cell_type": "code",
   "execution_count": 21,
   "id": "81a69e58-014d-45e7-82d6-bd44b431c7d1",
   "metadata": {},
   "outputs": [
    {
     "data": {
      "text/plain": [
       "'dense_3'"
      ]
     },
     "execution_count": 21,
     "metadata": {},
     "output_type": "execute_result"
    }
   ],
   "source": [
    "hidden1.name"
   ]
  },
  {
   "cell_type": "code",
   "execution_count": 22,
   "id": "4730b7c9-e224-4915-8fd4-3e54a4f3e843",
   "metadata": {},
   "outputs": [
    {
     "data": {
      "text/plain": [
       "array([[ 0.01616725, -0.04550347, -0.06654948, ..., -0.00137296,\n",
       "         0.05834861, -0.00815948],\n",
       "       [ 0.03707989,  0.0564854 , -0.02918276, ..., -0.05677786,\n",
       "         0.06446412,  0.05677202],\n",
       "       [ 0.02243578,  0.06430368,  0.04545601, ..., -0.04074163,\n",
       "         0.02195716,  0.02929999],\n",
       "       ...,\n",
       "       [-0.00386635, -0.01088022, -0.06716807, ...,  0.0391713 ,\n",
       "         0.00777111, -0.0488523 ],\n",
       "       [ 0.06550163,  0.05043374, -0.06575067, ..., -0.03265757,\n",
       "        -0.03085915,  0.06788503],\n",
       "       [ 0.06604119, -0.04371803,  0.00473876, ...,  0.02114764,\n",
       "        -0.06146447, -0.02633397]], dtype=float32)"
      ]
     },
     "execution_count": 22,
     "metadata": {},
     "output_type": "execute_result"
    }
   ],
   "source": [
    "weights, biases = hidden1.get_weights()\n",
    "weights"
   ]
  },
  {
   "cell_type": "code",
   "execution_count": 23,
   "id": "0112a030-ba52-467d-bea7-af75567bc886",
   "metadata": {},
   "outputs": [
    {
     "data": {
      "text/plain": [
       "(784, 300)"
      ]
     },
     "execution_count": 23,
     "metadata": {},
     "output_type": "execute_result"
    }
   ],
   "source": [
    "weights.shape"
   ]
  },
  {
   "cell_type": "code",
   "execution_count": 24,
   "id": "bf74669a-c7a1-4b6c-9c8d-e98436bb24b9",
   "metadata": {},
   "outputs": [
    {
     "data": {
      "text/plain": [
       "array([0., 0., 0., 0., 0., 0., 0., 0., 0., 0., 0., 0., 0., 0., 0., 0., 0.,\n",
       "       0., 0., 0., 0., 0., 0., 0., 0., 0., 0., 0., 0., 0., 0., 0., 0., 0.,\n",
       "       0., 0., 0., 0., 0., 0., 0., 0., 0., 0., 0., 0., 0., 0., 0., 0., 0.,\n",
       "       0., 0., 0., 0., 0., 0., 0., 0., 0., 0., 0., 0., 0., 0., 0., 0., 0.,\n",
       "       0., 0., 0., 0., 0., 0., 0., 0., 0., 0., 0., 0., 0., 0., 0., 0., 0.,\n",
       "       0., 0., 0., 0., 0., 0., 0., 0., 0., 0., 0., 0., 0., 0., 0., 0., 0.,\n",
       "       0., 0., 0., 0., 0., 0., 0., 0., 0., 0., 0., 0., 0., 0., 0., 0., 0.,\n",
       "       0., 0., 0., 0., 0., 0., 0., 0., 0., 0., 0., 0., 0., 0., 0., 0., 0.,\n",
       "       0., 0., 0., 0., 0., 0., 0., 0., 0., 0., 0., 0., 0., 0., 0., 0., 0.,\n",
       "       0., 0., 0., 0., 0., 0., 0., 0., 0., 0., 0., 0., 0., 0., 0., 0., 0.,\n",
       "       0., 0., 0., 0., 0., 0., 0., 0., 0., 0., 0., 0., 0., 0., 0., 0., 0.,\n",
       "       0., 0., 0., 0., 0., 0., 0., 0., 0., 0., 0., 0., 0., 0., 0., 0., 0.,\n",
       "       0., 0., 0., 0., 0., 0., 0., 0., 0., 0., 0., 0., 0., 0., 0., 0., 0.,\n",
       "       0., 0., 0., 0., 0., 0., 0., 0., 0., 0., 0., 0., 0., 0., 0., 0., 0.,\n",
       "       0., 0., 0., 0., 0., 0., 0., 0., 0., 0., 0., 0., 0., 0., 0., 0., 0.,\n",
       "       0., 0., 0., 0., 0., 0., 0., 0., 0., 0., 0., 0., 0., 0., 0., 0., 0.,\n",
       "       0., 0., 0., 0., 0., 0., 0., 0., 0., 0., 0., 0., 0., 0., 0., 0., 0.,\n",
       "       0., 0., 0., 0., 0., 0., 0., 0., 0., 0., 0.], dtype=float32)"
      ]
     },
     "execution_count": 24,
     "metadata": {},
     "output_type": "execute_result"
    }
   ],
   "source": [
    "biases"
   ]
  },
  {
   "cell_type": "code",
   "execution_count": 25,
   "id": "96cef5cb-2378-41a3-8299-2b82bdfc5e1c",
   "metadata": {},
   "outputs": [
    {
     "data": {
      "text/plain": [
       "(300,)"
      ]
     },
     "execution_count": 25,
     "metadata": {},
     "output_type": "execute_result"
    }
   ],
   "source": [
    "biases.shape"
   ]
  },
  {
   "cell_type": "markdown",
   "id": "192d5f85-fd37-4637-8e01-455500ee0d56",
   "metadata": {},
   "source": [
    "## Distribution des données des étiquettes d'entraînement"
   ]
  },
  {
   "cell_type": "code",
   "execution_count": 69,
   "id": "131fd496-94d2-422d-ba7e-590cee66c9b1",
   "metadata": {},
   "outputs": [
    {
     "data": {
      "text/plain": [
       "array([5479, 5503, 5510, 5492, 5473, 5497, 5533, 5550, 5485, 5478],\n",
       "      dtype=int64)"
      ]
     },
     "execution_count": 69,
     "metadata": {},
     "output_type": "execute_result"
    }
   ],
   "source": [
    "import numpy as np\n",
    "np.bincount(y_train)"
   ]
  },
  {
   "cell_type": "markdown",
   "id": "5c9d682e-01d4-4e95-b8d4-ab53b1283c10",
   "metadata": {},
   "source": [
    "Les classes sont plutôt équilibrées"
   ]
  },
  {
   "cell_type": "markdown",
   "id": "66e1f470-e742-47d2-875a-bf3a384a9a32",
   "metadata": {},
   "source": [
    "# Pour rééquilibrer:\n",
    "\n",
    "from sklearn.utils.class_weight import compute_class_weight\r\n",
    "\r\n",
    "# Calcul des poids de classes\r\n",
    "class_weights = compute_class_weight(\r\n",
    "    class_weight='balanced', \r\n",
    "    classes=np.unique(y_train), \r\n",
    "    y=y_train\r\n",
    ")\r\n",
    "\r\n",
    "# Conversion des poids en dicttion fit)\r\n",
    "class_weight_dict = dict(zip(np.unique(y_train), class_weights))\r\n",
    "\r\n",
    "# Entraînement avec les poids de classe\r\n",
    "model.fit(X_train, y_train, class_weight=class_weight_dict, epochs=10, batch_size=32)\r\n"
   ]
  },
  {
   "cell_type": "markdown",
   "id": "16a44a44-96bb-42f2-8c92-bde169cb595a",
   "metadata": {},
   "source": [
    "# Compilation du modèle"
   ]
  },
  {
   "cell_type": "code",
   "execution_count": 55,
   "id": "fd84259b-482f-4072-a31d-98f76e86c041",
   "metadata": {},
   "outputs": [],
   "source": [
    "model.compile(loss=\"sparse_categorical_crossentropy\", optimizer='sgd', metrics=[\"accuracy\"])"
   ]
  },
  {
   "cell_type": "code",
   "execution_count": 57,
   "id": "4ac5d27d-b9cc-4d82-b5ae-cb9637ea4b29",
   "metadata": {},
   "outputs": [
    {
     "name": "stdout",
     "output_type": "stream",
     "text": [
      "Epoch 1/30\n",
      "\u001b[1m1719/1719\u001b[0m \u001b[32m━━━━━━━━━━━━━━━━━━━━\u001b[0m\u001b[37m\u001b[0m \u001b[1m21s\u001b[0m 9ms/step - accuracy: 0.6896 - loss: 0.9855 - val_accuracy: 0.8278 - val_loss: 0.5052\n",
      "Epoch 2/30\n",
      "\u001b[1m1719/1719\u001b[0m \u001b[32m━━━━━━━━━━━━━━━━━━━━\u001b[0m\u001b[37m\u001b[0m \u001b[1m25s\u001b[0m 12ms/step - accuracy: 0.8250 - loss: 0.5066 - val_accuracy: 0.8424 - val_loss: 0.4535\n",
      "Epoch 3/30\n",
      "\u001b[1m1719/1719\u001b[0m \u001b[32m━━━━━━━━━━━━━━━━━━━━\u001b[0m\u001b[37m\u001b[0m \u001b[1m21s\u001b[0m 11ms/step - accuracy: 0.8433 - loss: 0.4520 - val_accuracy: 0.8464 - val_loss: 0.4313\n",
      "Epoch 4/30\n",
      "\u001b[1m1719/1719\u001b[0m \u001b[32m━━━━━━━━━━━━━━━━━━━━\u001b[0m\u001b[37m\u001b[0m \u001b[1m18s\u001b[0m 10ms/step - accuracy: 0.8544 - loss: 0.4222 - val_accuracy: 0.8518 - val_loss: 0.4162\n",
      "Epoch 5/30\n",
      "\u001b[1m1719/1719\u001b[0m \u001b[32m━━━━━━━━━━━━━━━━━━━━\u001b[0m\u001b[37m\u001b[0m \u001b[1m26s\u001b[0m 12ms/step - accuracy: 0.8610 - loss: 0.4004 - val_accuracy: 0.8560 - val_loss: 0.4035\n",
      "Epoch 6/30\n",
      "\u001b[1m1719/1719\u001b[0m \u001b[32m━━━━━━━━━━━━━━━━━━━━\u001b[0m\u001b[37m\u001b[0m \u001b[1m22s\u001b[0m 12ms/step - accuracy: 0.8659 - loss: 0.3833 - val_accuracy: 0.8568 - val_loss: 0.3954\n",
      "Epoch 7/30\n",
      "\u001b[1m1719/1719\u001b[0m \u001b[32m━━━━━━━━━━━━━━━━━━━━\u001b[0m\u001b[37m\u001b[0m \u001b[1m42s\u001b[0m 13ms/step - accuracy: 0.8711 - loss: 0.3691 - val_accuracy: 0.8588 - val_loss: 0.3874\n",
      "Epoch 8/30\n",
      "\u001b[1m1719/1719\u001b[0m \u001b[32m━━━━━━━━━━━━━━━━━━━━\u001b[0m\u001b[37m\u001b[0m \u001b[1m17s\u001b[0m 10ms/step - accuracy: 0.8757 - loss: 0.3568 - val_accuracy: 0.8610 - val_loss: 0.3814\n",
      "Epoch 9/30\n",
      "\u001b[1m1719/1719\u001b[0m \u001b[32m━━━━━━━━━━━━━━━━━━━━\u001b[0m\u001b[37m\u001b[0m \u001b[1m17s\u001b[0m 10ms/step - accuracy: 0.8784 - loss: 0.3461 - val_accuracy: 0.8630 - val_loss: 0.3737\n",
      "Epoch 10/30\n",
      "\u001b[1m1719/1719\u001b[0m \u001b[32m━━━━━━━━━━━━━━━━━━━━\u001b[0m\u001b[37m\u001b[0m \u001b[1m18s\u001b[0m 10ms/step - accuracy: 0.8821 - loss: 0.3364 - val_accuracy: 0.8654 - val_loss: 0.3690\n",
      "Epoch 11/30\n",
      "\u001b[1m1719/1719\u001b[0m \u001b[32m━━━━━━━━━━━━━━━━━━━━\u001b[0m\u001b[37m\u001b[0m \u001b[1m16s\u001b[0m 9ms/step - accuracy: 0.8850 - loss: 0.3273 - val_accuracy: 0.8672 - val_loss: 0.3645\n",
      "Epoch 12/30\n",
      "\u001b[1m1719/1719\u001b[0m \u001b[32m━━━━━━━━━━━━━━━━━━━━\u001b[0m\u001b[37m\u001b[0m \u001b[1m18s\u001b[0m 10ms/step - accuracy: 0.8878 - loss: 0.3188 - val_accuracy: 0.8686 - val_loss: 0.3595\n",
      "Epoch 13/30\n",
      "\u001b[1m1719/1719\u001b[0m \u001b[32m━━━━━━━━━━━━━━━━━━━━\u001b[0m\u001b[37m\u001b[0m \u001b[1m19s\u001b[0m 9ms/step - accuracy: 0.8907 - loss: 0.3111 - val_accuracy: 0.8702 - val_loss: 0.3565\n",
      "Epoch 14/30\n",
      "\u001b[1m1719/1719\u001b[0m \u001b[32m━━━━━━━━━━━━━━━━━━━━\u001b[0m\u001b[37m\u001b[0m \u001b[1m24s\u001b[0m 10ms/step - accuracy: 0.8932 - loss: 0.3039 - val_accuracy: 0.8700 - val_loss: 0.3547\n",
      "Epoch 15/30\n",
      "\u001b[1m1719/1719\u001b[0m \u001b[32m━━━━━━━━━━━━━━━━━━━━\u001b[0m\u001b[37m\u001b[0m \u001b[1m21s\u001b[0m 9ms/step - accuracy: 0.8952 - loss: 0.2972 - val_accuracy: 0.8710 - val_loss: 0.3524\n",
      "Epoch 16/30\n",
      "\u001b[1m1719/1719\u001b[0m \u001b[32m━━━━━━━━━━━━━━━━━━━━\u001b[0m\u001b[37m\u001b[0m \u001b[1m17s\u001b[0m 10ms/step - accuracy: 0.8978 - loss: 0.2909 - val_accuracy: 0.8716 - val_loss: 0.3523\n",
      "Epoch 17/30\n",
      "\u001b[1m1719/1719\u001b[0m \u001b[32m━━━━━━━━━━━━━━━━━━━━\u001b[0m\u001b[37m\u001b[0m \u001b[1m22s\u001b[0m 10ms/step - accuracy: 0.8994 - loss: 0.2851 - val_accuracy: 0.8736 - val_loss: 0.3513\n",
      "Epoch 18/30\n",
      "\u001b[1m1719/1719\u001b[0m \u001b[32m━━━━━━━━━━━━━━━━━━━━\u001b[0m\u001b[37m\u001b[0m \u001b[1m20s\u001b[0m 9ms/step - accuracy: 0.9014 - loss: 0.2794 - val_accuracy: 0.8736 - val_loss: 0.3498\n",
      "Epoch 19/30\n",
      "\u001b[1m1719/1719\u001b[0m \u001b[32m━━━━━━━━━━━━━━━━━━━━\u001b[0m\u001b[37m\u001b[0m \u001b[1m17s\u001b[0m 10ms/step - accuracy: 0.9035 - loss: 0.2738 - val_accuracy: 0.8736 - val_loss: 0.3490\n",
      "Epoch 20/30\n",
      "\u001b[1m1719/1719\u001b[0m \u001b[32m━━━━━━━━━━━━━━━━━━━━\u001b[0m\u001b[37m\u001b[0m \u001b[1m15s\u001b[0m 9ms/step - accuracy: 0.9053 - loss: 0.2688 - val_accuracy: 0.8756 - val_loss: 0.3480\n",
      "Epoch 21/30\n",
      "\u001b[1m1719/1719\u001b[0m \u001b[32m━━━━━━━━━━━━━━━━━━━━\u001b[0m\u001b[37m\u001b[0m \u001b[1m21s\u001b[0m 9ms/step - accuracy: 0.9073 - loss: 0.2637 - val_accuracy: 0.8756 - val_loss: 0.3479\n",
      "Epoch 22/30\n",
      "\u001b[1m1719/1719\u001b[0m \u001b[32m━━━━━━━━━━━━━━━━━━━━\u001b[0m\u001b[37m\u001b[0m \u001b[1m21s\u001b[0m 9ms/step - accuracy: 0.9091 - loss: 0.2588 - val_accuracy: 0.8744 - val_loss: 0.3485\n",
      "Epoch 23/30\n",
      "\u001b[1m1719/1719\u001b[0m \u001b[32m━━━━━━━━━━━━━━━━━━━━\u001b[0m\u001b[37m\u001b[0m \u001b[1m18s\u001b[0m 10ms/step - accuracy: 0.9109 - loss: 0.2542 - val_accuracy: 0.8740 - val_loss: 0.3477\n",
      "Epoch 24/30\n",
      "\u001b[1m1719/1719\u001b[0m \u001b[32m━━━━━━━━━━━━━━━━━━━━\u001b[0m\u001b[37m\u001b[0m \u001b[1m22s\u001b[0m 11ms/step - accuracy: 0.9123 - loss: 0.2498 - val_accuracy: 0.8748 - val_loss: 0.3461\n",
      "Epoch 25/30\n",
      "\u001b[1m1719/1719\u001b[0m \u001b[32m━━━━━━━━━━━━━━━━━━━━\u001b[0m\u001b[37m\u001b[0m \u001b[1m17s\u001b[0m 10ms/step - accuracy: 0.9135 - loss: 0.2453 - val_accuracy: 0.8750 - val_loss: 0.3458\n",
      "Epoch 26/30\n",
      "\u001b[1m1719/1719\u001b[0m \u001b[32m━━━━━━━━━━━━━━━━━━━━\u001b[0m\u001b[37m\u001b[0m \u001b[1m16s\u001b[0m 9ms/step - accuracy: 0.9152 - loss: 0.2412 - val_accuracy: 0.8756 - val_loss: 0.3456\n",
      "Epoch 27/30\n",
      "\u001b[1m1719/1719\u001b[0m \u001b[32m━━━━━━━━━━━━━━━━━━━━\u001b[0m\u001b[37m\u001b[0m \u001b[1m17s\u001b[0m 10ms/step - accuracy: 0.9166 - loss: 0.2372 - val_accuracy: 0.8742 - val_loss: 0.3470\n",
      "Epoch 28/30\n",
      "\u001b[1m1719/1719\u001b[0m \u001b[32m━━━━━━━━━━━━━━━━━━━━\u001b[0m\u001b[37m\u001b[0m \u001b[1m16s\u001b[0m 10ms/step - accuracy: 0.9182 - loss: 0.2333 - val_accuracy: 0.8758 - val_loss: 0.3446\n",
      "Epoch 29/30\n",
      "\u001b[1m1719/1719\u001b[0m \u001b[32m━━━━━━━━━━━━━━━━━━━━\u001b[0m\u001b[37m\u001b[0m \u001b[1m15s\u001b[0m 9ms/step - accuracy: 0.9198 - loss: 0.2294 - val_accuracy: 0.8754 - val_loss: 0.3417\n",
      "Epoch 30/30\n",
      "\u001b[1m1719/1719\u001b[0m \u001b[32m━━━━━━━━━━━━━━━━━━━━\u001b[0m\u001b[37m\u001b[0m \u001b[1m22s\u001b[0m 9ms/step - accuracy: 0.9212 - loss: 0.2256 - val_accuracy: 0.8762 - val_loss: 0.3416\n"
     ]
    }
   ],
   "source": [
    "history = model.fit(X_train, y_train, epochs=30, validation_data = (X_valid, y_valid))"
   ]
  },
  {
   "cell_type": "code",
   "execution_count": 77,
   "id": "f98799f4-3d10-49fe-b773-9615b1c0800b",
   "metadata": {},
   "outputs": [
    {
     "data": {
      "text/plain": [
       "{'verbose': 'auto', 'epochs': 30, 'steps': 1719}"
      ]
     },
     "execution_count": 77,
     "metadata": {},
     "output_type": "execute_result"
    }
   ],
   "source": [
    "history.params"
   ]
  },
  {
   "cell_type": "code",
   "execution_count": 79,
   "id": "e090bc96-9802-4aae-a9a3-5bf0b23473d0",
   "metadata": {},
   "outputs": [],
   "source": [
    "import matplotlib.pyplot as plt\n",
    "import pandas as pd"
   ]
  },
  {
   "cell_type": "code",
   "execution_count": 83,
   "id": "8bc4b511-fbaa-47fd-b595-05f9f3fe0325",
   "metadata": {},
   "outputs": [
    {
     "data": {
      "image/png": "[encoded data removed]",
      "text/plain": [
       "<Figure size 800x500 with 1 Axes>"
      ]
     },
     "metadata": {},
     "output_type": "display_data"
    }
   ],
   "source": [
    "pd.DataFrame(history.history).plot(figsize=(8,5), xlim=[0,29], ylim=[0,1], grid=True, xlabel=\"Epoch\", style=[\"r--\", \"r--\", \"b-\", \"b-*\"])\n",
    "plt.show()"
   ]
  },
  {
   "cell_type": "code",
   "execution_count": 85,
   "id": "a4892ad0-5d6e-4cca-96e3-d8f36bae0c38",
   "metadata": {},
   "outputs": [
    {
     "name": "stdout",
     "output_type": "stream",
     "text": [
      "\u001b[1m313/313\u001b[0m \u001b[32m━━━━━━━━━━━━━━━━━━━━\u001b[0m\u001b[37m\u001b[0m \u001b[1m3s\u001b[0m 5ms/step - accuracy: 0.8740 - loss: 0.3625\n"
     ]
    },
    {
     "data": {
      "text/plain": [
       "[0.3608822524547577, 0.8748000264167786]"
      ]
     },
     "execution_count": 85,
     "metadata": {},
     "output_type": "execute_result"
    }
   ],
   "source": [
    "model.evaluate(X_test, y_test)"
   ]
  },
  {
   "cell_type": "markdown",
   "id": "f2cb1f95-4d89-4f79-865e-3231ec4b310d",
   "metadata": {},
   "source": [
    "## Prédictions"
   ]
  },
  {
   "cell_type": "code",
   "execution_count": 131,
   "id": "7ff3f2c4-e68e-49a0-98bd-aad7b28c4255",
   "metadata": {},
   "outputs": [
    {
     "data": {
      "image/png": "[encoded data removed]",
      "text/plain": [
       "<Figure size 640x480 with 3 Axes>"
      ]
     },
     "metadata": {},
     "output_type": "display_data"
    }
   ],
   "source": [
    "for i in range(3):\n",
    "    plt.subplot(1, 3, i + 1)  \n",
    "    plt.imshow(X_test[i], cmap='gray')  \n",
    "    plt.title(np.array(class_names)[y_test[i]])  \n",
    "    plt.axis('off')  \n",
    "\n",
    "plt.tight_layout()  \n",
    "plt.show()"
   ]
  },
  {
   "cell_type": "code",
   "execution_count": 88,
   "id": "875553f9-43ac-4050-a396-e012fa8f4880",
   "metadata": {},
   "outputs": [],
   "source": [
    "X_new = X_test[:3]"
   ]
  },
  {
   "cell_type": "code",
   "execution_count": 90,
   "id": "2071974c-cf61-45da-ab89-5ef53850259e",
   "metadata": {},
   "outputs": [
    {
     "name": "stdout",
     "output_type": "stream",
     "text": [
      "\u001b[1m1/1\u001b[0m \u001b[32m━━━━━━━━━━━━━━━━━━━━\u001b[0m\u001b[37m\u001b[0m \u001b[1m1s\u001b[0m 574ms/step\n"
     ]
    }
   ],
   "source": [
    "y_proba = model.predict(X_new)"
   ]
  },
  {
   "cell_type": "code",
   "execution_count": 92,
   "id": "1e352d1e-7567-4b21-bbe1-df7b11c8a6fe",
   "metadata": {},
   "outputs": [
    {
     "data": {
      "text/plain": [
       "array([[0.  , 0.  , 0.  , 0.  , 0.  , 0.3 , 0.  , 0.01, 0.  , 0.69],\n",
       "       [0.  , 0.  , 1.  , 0.  , 0.  , 0.  , 0.  , 0.  , 0.  , 0.  ],\n",
       "       [0.  , 1.  , 0.  , 0.  , 0.  , 0.  , 0.  , 0.  , 0.  , 0.  ]],\n",
       "      dtype=float32)"
      ]
     },
     "execution_count": 92,
     "metadata": {},
     "output_type": "execute_result"
    }
   ],
   "source": [
    "y_proba.round(2)"
   ]
  },
  {
   "cell_type": "code",
   "execution_count": 102,
   "id": "c102ab40-a7ff-4712-a732-c24d183d3316",
   "metadata": {},
   "outputs": [],
   "source": [
    "y_pred = y_proba.argmax(axis=-1)"
   ]
  },
  {
   "cell_type": "code",
   "execution_count": 104,
   "id": "d3f0973e-9428-4b2d-aaaa-b62f6e7a76a6",
   "metadata": {},
   "outputs": [
    {
     "data": {
      "text/plain": [
       "array([9, 2, 1], dtype=int64)"
      ]
     },
     "execution_count": 104,
     "metadata": {},
     "output_type": "execute_result"
    }
   ],
   "source": [
    "y_pred"
   ]
  },
  {
   "cell_type": "code",
   "execution_count": 106,
   "id": "fc78f64e-bdc4-4183-ba96-a59c5837d98a",
   "metadata": {},
   "outputs": [
    {
     "data": {
      "text/plain": [
       "array(['Ankle boot', 'Pullover', 'Trouser'], dtype='<U11')"
      ]
     },
     "execution_count": 106,
     "metadata": {},
     "output_type": "execute_result"
    }
   ],
   "source": [
    "np.array(class_names)[y_pred]"
   ]
  },
  {
   "cell_type": "code",
   "execution_count": 112,
   "id": "ea03ca7c-806c-41f2-bfab-229312f3fc43",
   "metadata": {},
   "outputs": [
    {
     "data": {
      "text/plain": [
       "array([9, 2, 1], dtype=uint8)"
      ]
     },
     "execution_count": 112,
     "metadata": {},
     "output_type": "execute_result"
    }
   ],
   "source": [
    "y_new = y_test[:3]\n",
    "y_new"
   ]
  },
  {
   "cell_type": "markdown",
   "id": "a607c1a6-3bf0-4d4f-95a1-4a501da0b00b",
   "metadata": {},
   "source": [
    "Le classificateur a fait une prédiction correcte des 3 images"
   ]
  },
  {
   "cell_type": "markdown",
   "id": "9dbb8080-36d8-4a0f-8faf-3054812b359f",
   "metadata": {},
   "source": [
    "# Perceptron multicouche de régression"
   ]
  },
  {
   "cell_type": "code",
   "execution_count": 138,
   "id": "10282939-5b01-48df-8595-1dbc1bb8d570",
   "metadata": {},
   "outputs": [],
   "source": [
    "from sklearn.datasets import fetch_california_housing"
   ]
  },
  {
   "cell_type": "code",
   "execution_count": 146,
   "id": "4ac54898-e617-4d73-827f-40b961b99bc8",
   "metadata": {},
   "outputs": [],
   "source": [
    "from sklearn.model_selection import train_test_split"
   ]
  },
  {
   "cell_type": "code",
   "execution_count": 527,
   "id": "8bab1f44-46b4-415c-a604-03e7434481f5",
   "metadata": {},
   "outputs": [],
   "source": [
    "housing = fetch_california_housing()\n",
    "X_train_full, X_test, y_train_full, y_test = train_test_split(housing.data, housing.target, random_state = 42)\n",
    "X_train, X_valid, y_train, y_valid = train_test_split(X_train_full, y_train_full, random_state=42)"
   ]
  },
  {
   "cell_type": "code",
   "execution_count": 407,
   "id": "250d851f-0f39-4e0c-b476-ffba7f55f775",
   "metadata": {},
   "outputs": [
    {
     "name": "stdout",
     "output_type": "stream",
     "text": [
      "(11610, 8)\n",
      "(3870, 8)\n",
      "(5160, 8)\n",
      "(11610,)\n",
      "(3870,)\n",
      "(5160,)\n"
     ]
    }
   ],
   "source": [
    "print(X_train.shape)\n",
    "print(X_valid.shape)\n",
    "print(X_test.shape)\n",
    "print(y_train.shape)\n",
    "print(y_valid.shape)\n",
    "print(y_test.shape)"
   ]
  },
  {
   "cell_type": "markdown",
   "id": "1f7ed680-fda4-4d60-ad72-0c614ae00c71",
   "metadata": {},
   "source": [
    "## Réseau de neurones avec API Sequentielle"
   ]
  },
  {
   "cell_type": "code",
   "execution_count": 362,
   "id": "ed9a8b5a-4934-45b6-918c-9c37c4da055d",
   "metadata": {},
   "outputs": [],
   "source": [
    "tf.random.set_seed(42)\n",
    "norm_layer = tf.keras.layers.Normalization(input_shape=X_train.shape[1:])  \n",
    "\n",
    "model = tf.keras.Sequential([\n",
    "    norm_layer,  # Normalisation de l'entrée\n",
    "    tf.keras.layers.Dense(50, activation='relu'),\n",
    "    tf.keras.layers.Dense(50, activation='relu'),\n",
    "    tf.keras.layers.Dense(50, activation='relu'),\n",
    "    tf.keras.layers.Dense(1) \n",
    "])\n"
   ]
  },
  {
   "cell_type": "markdown",
   "id": "1ed961ab-d25b-49b5-8562-d320ad576d86",
   "metadata": {},
   "source": [
    "tf.keras.layers.Normalization à la place de Flatten(). Même rôle que StandardScaler(). Fonction appelée avec adpat() avant la méthode fit()"
   ]
  },
  {
   "cell_type": "code",
   "execution_count": 365,
   "id": "aee94b19-51ca-43ce-95c1-c1d085c96211",
   "metadata": {},
   "outputs": [],
   "source": [
    "optimizer = tf.keras.optimizers.Adam(learning_rate=1e-3)\n",
    "model.compile(loss='mse', optimizer = optimizer, metrics=['RootMeanSquaredError'])"
   ]
  },
  {
   "cell_type": "code",
   "execution_count": 367,
   "id": "0b5633e2-c365-4437-9ee2-91352c06c100",
   "metadata": {},
   "outputs": [],
   "source": [
    "norm_layer.adapt(X_train)"
   ]
  },
  {
   "cell_type": "code",
   "execution_count": 369,
   "id": "df034ede-876d-4bf5-b133-5d4226bc8be4",
   "metadata": {},
   "outputs": [
    {
     "name": "stdout",
     "output_type": "stream",
     "text": [
      "Epoch 1/20\n",
      "\u001b[1m363/363\u001b[0m \u001b[32m━━━━━━━━━━━━━━━━━━━━\u001b[0m\u001b[37m\u001b[0m \u001b[1m9s\u001b[0m 3ms/step - RootMeanSquaredError: 1.2100 - loss: 1.5605 - val_RootMeanSquaredError: 0.7442 - val_loss: 0.5538\n",
      "Epoch 2/20\n",
      "\u001b[1m363/363\u001b[0m \u001b[32m━━━━━━━━━━━━━━━━━━━━\u001b[0m\u001b[37m\u001b[0m \u001b[1m1s\u001b[0m 2ms/step - RootMeanSquaredError: 0.6499 - loss: 0.4227 - val_RootMeanSquaredError: 0.9078 - val_loss: 0.8241\n",
      "Epoch 3/20\n",
      "\u001b[1m363/363\u001b[0m \u001b[32m━━━━━━━━━━━━━━━━━━━━\u001b[0m\u001b[37m\u001b[0m \u001b[1m0s\u001b[0m 845us/step - RootMeanSquaredError: 0.6098 - loss: 0.3721 - val_RootMeanSquaredError: 1.0359 - val_loss: 1.0731\n",
      "Epoch 4/20\n",
      "\u001b[1m363/363\u001b[0m \u001b[32m━━━━━━━━━━━━━━━━━━━━\u001b[0m\u001b[37m\u001b[0m \u001b[1m1s\u001b[0m 1ms/step - RootMeanSquaredError: 0.5972 - loss: 0.3568 - val_RootMeanSquaredError: 1.0266 - val_loss: 1.0539\n",
      "Epoch 5/20\n",
      "\u001b[1m363/363\u001b[0m \u001b[32m━━━━━━━━━━━━━━━━━━━━\u001b[0m\u001b[37m\u001b[0m \u001b[1m0s\u001b[0m 965us/step - RootMeanSquaredError: 0.5843 - loss: 0.3416 - val_RootMeanSquaredError: 1.0117 - val_loss: 1.0236\n",
      "Epoch 6/20\n",
      "\u001b[1m363/363\u001b[0m \u001b[32m━━━━━━━━━━━━━━━━━━━━\u001b[0m\u001b[37m\u001b[0m \u001b[1m0s\u001b[0m 776us/step - RootMeanSquaredError: 0.5756 - loss: 0.3315 - val_RootMeanSquaredError: 1.1793 - val_loss: 1.3907\n",
      "Epoch 7/20\n",
      "\u001b[1m363/363\u001b[0m \u001b[32m━━━━━━━━━━━━━━━━━━━━\u001b[0m\u001b[37m\u001b[0m \u001b[1m0s\u001b[0m 759us/step - RootMeanSquaredError: 0.5693 - loss: 0.3242 - val_RootMeanSquaredError: 1.7867 - val_loss: 3.1923\n",
      "Epoch 8/20\n",
      "\u001b[1m363/363\u001b[0m \u001b[32m━━━━━━━━━━━━━━━━━━━━\u001b[0m\u001b[37m\u001b[0m \u001b[1m0s\u001b[0m 720us/step - RootMeanSquaredError: 0.5655 - loss: 0.3199 - val_RootMeanSquaredError: 1.0658 - val_loss: 1.1359\n",
      "Epoch 9/20\n",
      "\u001b[1m363/363\u001b[0m \u001b[32m━━━━━━━━━━━━━━━━━━━━\u001b[0m\u001b[37m\u001b[0m \u001b[1m0s\u001b[0m 770us/step - RootMeanSquaredError: 0.5591 - loss: 0.3127 - val_RootMeanSquaredError: 1.1556 - val_loss: 1.3354\n",
      "Epoch 10/20\n",
      "\u001b[1m363/363\u001b[0m \u001b[32m━━━━━━━━━━━━━━━━━━━━\u001b[0m\u001b[37m\u001b[0m \u001b[1m0s\u001b[0m 793us/step - RootMeanSquaredError: 0.5520 - loss: 0.3048 - val_RootMeanSquaredError: 0.7867 - val_loss: 0.6190\n",
      "Epoch 11/20\n",
      "\u001b[1m363/363\u001b[0m \u001b[32m━━━━━━━━━━━━━━━━━━━━\u001b[0m\u001b[37m\u001b[0m \u001b[1m0s\u001b[0m 910us/step - RootMeanSquaredError: 0.5489 - loss: 0.3014 - val_RootMeanSquaredError: 0.6387 - val_loss: 0.4079\n",
      "Epoch 12/20\n",
      "\u001b[1m363/363\u001b[0m \u001b[32m━━━━━━━━━━━━━━━━━━━━\u001b[0m\u001b[37m\u001b[0m \u001b[1m0s\u001b[0m 958us/step - RootMeanSquaredError: 0.5407 - loss: 0.2925 - val_RootMeanSquaredError: 0.5360 - val_loss: 0.2873\n",
      "Epoch 13/20\n",
      "\u001b[1m363/363\u001b[0m \u001b[32m━━━━━━━━━━━━━━━━━━━━\u001b[0m\u001b[37m\u001b[0m \u001b[1m0s\u001b[0m 883us/step - RootMeanSquaredError: 0.5367 - loss: 0.2882 - val_RootMeanSquaredError: 0.5809 - val_loss: 0.3374\n",
      "Epoch 14/20\n",
      "\u001b[1m363/363\u001b[0m \u001b[32m━━━━━━━━━━━━━━━━━━━━\u001b[0m\u001b[37m\u001b[0m \u001b[1m0s\u001b[0m 705us/step - RootMeanSquaredError: 0.5349 - loss: 0.2862 - val_RootMeanSquaredError: 0.5261 - val_loss: 0.2768\n",
      "Epoch 15/20\n",
      "\u001b[1m363/363\u001b[0m \u001b[32m━━━━━━━━━━━━━━━━━━━━\u001b[0m\u001b[37m\u001b[0m \u001b[1m0s\u001b[0m 768us/step - RootMeanSquaredError: 0.5315 - loss: 0.2826 - val_RootMeanSquaredError: 0.5598 - val_loss: 0.3134\n",
      "Epoch 16/20\n",
      "\u001b[1m363/363\u001b[0m \u001b[32m━━━━━━━━━━━━━━━━━━━━\u001b[0m\u001b[37m\u001b[0m \u001b[1m0s\u001b[0m 689us/step - RootMeanSquaredError: 0.5298 - loss: 0.2808 - val_RootMeanSquaredError: 0.5250 - val_loss: 0.2756\n",
      "Epoch 17/20\n",
      "\u001b[1m363/363\u001b[0m \u001b[32m━━━━━━━━━━━━━━━━━━━━\u001b[0m\u001b[37m\u001b[0m \u001b[1m1s\u001b[0m 2ms/step - RootMeanSquaredError: 0.5273 - loss: 0.2781 - val_RootMeanSquaredError: 0.6017 - val_loss: 0.3621\n",
      "Epoch 18/20\n",
      "\u001b[1m363/363\u001b[0m \u001b[32m━━━━━━━━━━━━━━━━━━━━\u001b[0m\u001b[37m\u001b[0m \u001b[1m0s\u001b[0m 1ms/step - RootMeanSquaredError: 0.5251 - loss: 0.2758 - val_RootMeanSquaredError: 0.5445 - val_loss: 0.2964\n",
      "Epoch 19/20\n",
      "\u001b[1m363/363\u001b[0m \u001b[32m━━━━━━━━━━━━━━━━━━━━\u001b[0m\u001b[37m\u001b[0m \u001b[1m0s\u001b[0m 893us/step - RootMeanSquaredError: 0.5234 - loss: 0.2740 - val_RootMeanSquaredError: 0.9372 - val_loss: 0.8784\n",
      "Epoch 20/20\n",
      "\u001b[1m363/363\u001b[0m \u001b[32m━━━━━━━━━━━━━━━━━━━━\u001b[0m\u001b[37m\u001b[0m \u001b[1m1s\u001b[0m 1ms/step - RootMeanSquaredError: 0.5224 - loss: 0.2730 - val_RootMeanSquaredError: 0.6971 - val_loss: 0.4859\n"
     ]
    }
   ],
   "source": [
    "history= model.fit(X_train, y_train, epochs=20, validation_data=(X_valid, y_valid))"
   ]
  },
  {
   "cell_type": "code",
   "execution_count": 371,
   "id": "c3e2a476-c02e-4303-aaff-2eaa4807e7d6",
   "metadata": {},
   "outputs": [
    {
     "name": "stdout",
     "output_type": "stream",
     "text": [
      "\u001b[1m162/162\u001b[0m \u001b[32m━━━━━━━━━━━━━━━━━━━━\u001b[0m\u001b[37m\u001b[0m \u001b[1m0s\u001b[0m 1ms/step - RootMeanSquaredError: 0.5324 - loss: 0.2837\n",
      "\u001b[1m1/1\u001b[0m \u001b[32m━━━━━━━━━━━━━━━━━━━━\u001b[0m\u001b[37m\u001b[0m \u001b[1m0s\u001b[0m 48ms/step\n"
     ]
    }
   ],
   "source": [
    "mse_test, rmse_test = model.evaluate(X_test, y_test)\n",
    "X_new = X_test[:3]\n",
    "y_pred = model.predict(X_new)"
   ]
  },
  {
   "cell_type": "code",
   "execution_count": 346,
   "id": "3cb18422-5fc3-4f52-9692-01e9e856210f",
   "metadata": {},
   "outputs": [
    {
     "data": {
      "text/plain": [
       "array([[0.4836685 ],\n",
       "       [0.93993634],\n",
       "       [4.6687546 ]], dtype=float32)"
      ]
     },
     "execution_count": 346,
     "metadata": {},
     "output_type": "execute_result"
    }
   ],
   "source": [
    "y_pred"
   ]
  },
  {
   "cell_type": "markdown",
   "id": "428ff2bb-92bd-4ee2-9b5b-c75f03f2ad84",
   "metadata": {},
   "source": [
    "# Réseau de neurone avec API fonctionnelle (non sequentielle)"
   ]
  },
  {
   "cell_type": "markdown",
   "id": "3b307df0-f595-4c06-895f-62216209c969",
   "metadata": {},
   "source": [
    "Construction de modèles afin d'avoir plusieurs entrées ou plusieurs sorties. Un sous-ensemble peut passer par le chemin profond (toutes les couches) ou par un chemin large allant directement vers la sortie"
   ]
  },
  {
   "cell_type": "markdown",
   "id": "d50d8a0a-0a22-4935-8baa-04da26e32f5c",
   "metadata": {},
   "source": [
    "## Modèle avec 2 entrées, 2 chemins (profond et large) et 1 sortie"
   ]
  },
  {
   "cell_type": "code",
   "execution_count": 390,
   "id": "07539087-8385-45b3-9b47-b9661823a5e8",
   "metadata": {},
   "outputs": [],
   "source": [
    "input_wide = tf.keras.layers.Input(shape=[5])  # 5 caractéristiques\n",
    "input_deep = tf.keras.layers.Input(shape=[6])  # 6 caractéristiques\n",
    "norm_layer_wide = tf.keras.layers.Normalization()\n",
    "norm_layer_deep = tf.keras.layers.Normalization()\n",
    "norm_wide = norm_layer_wide(input_wide)\n",
    "norm_deep = norm_layer_deep(input_deep)\n",
    "hidden1 = tf.keras.layers.Dense(30, activation='relu')(norm_deep)\n",
    "hidden2 = tf.keras.layers.Dense(30, activation='relu')(hidden1)\n",
    "concat = tf.keras.layers.concatenate([norm_wide, hidden2])\n",
    "output = tf.keras.layers.Dense(1)(concat)\n",
    "model = tf.keras.Model(inputs=[input_wide, input_deep], outputs=[output])"
   ]
  },
  {
   "cell_type": "code",
   "execution_count": 391,
   "id": "7cde3576-1a5f-40fe-bee2-36efec43a006",
   "metadata": {},
   "outputs": [],
   "source": [
    "optimizer = tf.keras.optimizers.Adam(learning_rate=1e-3)\n",
    "model.compile(loss='mse', optimizer = optimizer, metrics=['RootMeanSquaredError'])"
   ]
  },
  {
   "cell_type": "code",
   "execution_count": 394,
   "id": "8b6694dd-8d04-4904-8456-f599fe7fbc0b",
   "metadata": {},
   "outputs": [],
   "source": [
    "X_train_wide, X_train_deep = X_train[:, :5], X_train[:, 2:]\n",
    "X_valid_wide, X_valid_deep = X_valid[:, :5], X_valid[:, 2:]\n",
    "X_test_wide, X_test_deep = X_test[:, :5], X_test[:, 2:]\n",
    "X_new_wide, X_new_deep = X_test_wide[:3], X_test_deep[:3]"
   ]
  },
  {
   "cell_type": "code",
   "execution_count": 396,
   "id": "eaf1fd96-11fe-4e04-9d5d-53f8611bc83d",
   "metadata": {},
   "outputs": [],
   "source": [
    "norm_layer_wide.adapt(X_train_wide)\n",
    "norm_layer_deep.adapt(X_train_deep)"
   ]
  },
  {
   "cell_type": "code",
   "execution_count": 398,
   "id": "5793a931-aa32-4ac4-b770-45d2b9073edb",
   "metadata": {},
   "outputs": [
    {
     "name": "stdout",
     "output_type": "stream",
     "text": [
      "Epoch 1/20\n",
      "\u001b[1m363/363\u001b[0m \u001b[32m━━━━━━━━━━━━━━━━━━━━\u001b[0m\u001b[37m\u001b[0m \u001b[1m3s\u001b[0m 2ms/step - RootMeanSquaredError: 1.5206 - loss: 2.4148 - val_RootMeanSquaredError: 1.0927 - val_loss: 1.1940\n",
      "Epoch 2/20\n",
      "\u001b[1m363/363\u001b[0m \u001b[32m━━━━━━━━━━━━━━━━━━━━\u001b[0m\u001b[37m\u001b[0m \u001b[1m0s\u001b[0m 754us/step - RootMeanSquaredError: 0.7748 - loss: 0.6007 - val_RootMeanSquaredError: 0.6902 - val_loss: 0.4764\n",
      "Epoch 3/20\n",
      "\u001b[1m363/363\u001b[0m \u001b[32m━━━━━━━━━━━━━━━━━━━━\u001b[0m\u001b[37m\u001b[0m \u001b[1m0s\u001b[0m 799us/step - RootMeanSquaredError: 0.7113 - loss: 0.5063 - val_RootMeanSquaredError: 0.6627 - val_loss: 0.4391\n",
      "Epoch 4/20\n",
      "\u001b[1m363/363\u001b[0m \u001b[32m━━━━━━━━━━━━━━━━━━━━\u001b[0m\u001b[37m\u001b[0m \u001b[1m0s\u001b[0m 786us/step - RootMeanSquaredError: 0.6723 - loss: 0.4522 - val_RootMeanSquaredError: 0.6305 - val_loss: 0.3976\n",
      "Epoch 5/20\n",
      "\u001b[1m363/363\u001b[0m \u001b[32m━━━━━━━━━━━━━━━━━━━━\u001b[0m\u001b[37m\u001b[0m \u001b[1m0s\u001b[0m 794us/step - RootMeanSquaredError: 0.6465 - loss: 0.4181 - val_RootMeanSquaredError: 0.7532 - val_loss: 0.5674\n",
      "Epoch 6/20\n",
      "\u001b[1m363/363\u001b[0m \u001b[32m━━━━━━━━━━━━━━━━━━━━\u001b[0m\u001b[37m\u001b[0m \u001b[1m0s\u001b[0m 846us/step - RootMeanSquaredError: 0.6301 - loss: 0.3973 - val_RootMeanSquaredError: 0.7240 - val_loss: 0.5241\n",
      "Epoch 7/20\n",
      "\u001b[1m363/363\u001b[0m \u001b[32m━━━━━━━━━━━━━━━━━━━━\u001b[0m\u001b[37m\u001b[0m \u001b[1m0s\u001b[0m 1ms/step - RootMeanSquaredError: 0.6187 - loss: 0.3829 - val_RootMeanSquaredError: 1.0845 - val_loss: 1.1762\n",
      "Epoch 8/20\n",
      "\u001b[1m363/363\u001b[0m \u001b[32m━━━━━━━━━━━━━━━━━━━━\u001b[0m\u001b[37m\u001b[0m \u001b[1m0s\u001b[0m 818us/step - RootMeanSquaredError: 0.6108 - loss: 0.3732 - val_RootMeanSquaredError: 1.2477 - val_loss: 1.5567\n",
      "Epoch 9/20\n",
      "\u001b[1m363/363\u001b[0m \u001b[32m━━━━━━━━━━━━━━━━━━━━\u001b[0m\u001b[37m\u001b[0m \u001b[1m0s\u001b[0m 774us/step - RootMeanSquaredError: 0.6059 - loss: 0.3671 - val_RootMeanSquaredError: 1.8446 - val_loss: 3.4025\n",
      "Epoch 10/20\n",
      "\u001b[1m363/363\u001b[0m \u001b[32m━━━━━━━━━━━━━━━━━━━━\u001b[0m\u001b[37m\u001b[0m \u001b[1m0s\u001b[0m 736us/step - RootMeanSquaredError: 0.6034 - loss: 0.3641 - val_RootMeanSquaredError: 1.5939 - val_loss: 2.5405\n",
      "Epoch 11/20\n",
      "\u001b[1m363/363\u001b[0m \u001b[32m━━━━━━━━━━━━━━━━━━━━\u001b[0m\u001b[37m\u001b[0m \u001b[1m0s\u001b[0m 952us/step - RootMeanSquaredError: 0.5968 - loss: 0.3563 - val_RootMeanSquaredError: 1.2808 - val_loss: 1.6404\n",
      "Epoch 12/20\n",
      "\u001b[1m363/363\u001b[0m \u001b[32m━━━━━━━━━━━━━━━━━━━━\u001b[0m\u001b[37m\u001b[0m \u001b[1m0s\u001b[0m 679us/step - RootMeanSquaredError: 0.5902 - loss: 0.3484 - val_RootMeanSquaredError: 1.6451 - val_loss: 2.7063\n",
      "Epoch 13/20\n",
      "\u001b[1m363/363\u001b[0m \u001b[32m━━━━━━━━━━━━━━━━━━━━\u001b[0m\u001b[37m\u001b[0m \u001b[1m0s\u001b[0m 674us/step - RootMeanSquaredError: 0.5888 - loss: 0.3467 - val_RootMeanSquaredError: 1.4244 - val_loss: 2.0288\n",
      "Epoch 14/20\n",
      "\u001b[1m363/363\u001b[0m \u001b[32m━━━━━━━━━━━━━━━━━━━━\u001b[0m\u001b[37m\u001b[0m \u001b[1m0s\u001b[0m 796us/step - RootMeanSquaredError: 0.5862 - loss: 0.3437 - val_RootMeanSquaredError: 1.6581 - val_loss: 2.7494\n",
      "Epoch 15/20\n",
      "\u001b[1m363/363\u001b[0m \u001b[32m━━━━━━━━━━━━━━━━━━━━\u001b[0m\u001b[37m\u001b[0m \u001b[1m0s\u001b[0m 753us/step - RootMeanSquaredError: 0.5845 - loss: 0.3417 - val_RootMeanSquaredError: 1.3210 - val_loss: 1.7450\n",
      "Epoch 16/20\n",
      "\u001b[1m363/363\u001b[0m \u001b[32m━━━━━━━━━━━━━━━━━━━━\u001b[0m\u001b[37m\u001b[0m \u001b[1m0s\u001b[0m 714us/step - RootMeanSquaredError: 0.5818 - loss: 0.3385 - val_RootMeanSquaredError: 1.2096 - val_loss: 1.4630\n",
      "Epoch 17/20\n",
      "\u001b[1m363/363\u001b[0m \u001b[32m━━━━━━━━━━━━━━━━━━━━\u001b[0m\u001b[37m\u001b[0m \u001b[1m0s\u001b[0m 807us/step - RootMeanSquaredError: 0.5769 - loss: 0.3328 - val_RootMeanSquaredError: 0.9380 - val_loss: 0.8798\n",
      "Epoch 18/20\n",
      "\u001b[1m363/363\u001b[0m \u001b[32m━━━━━━━━━━━━━━━━━━━━\u001b[0m\u001b[37m\u001b[0m \u001b[1m0s\u001b[0m 715us/step - RootMeanSquaredError: 0.5733 - loss: 0.3287 - val_RootMeanSquaredError: 1.0205 - val_loss: 1.0415\n",
      "Epoch 19/20\n",
      "\u001b[1m363/363\u001b[0m \u001b[32m━━━━━━━━━━━━━━━━━━━━\u001b[0m\u001b[37m\u001b[0m \u001b[1m0s\u001b[0m 798us/step - RootMeanSquaredError: 0.5713 - loss: 0.3264 - val_RootMeanSquaredError: 0.9236 - val_loss: 0.8531\n",
      "Epoch 20/20\n",
      "\u001b[1m363/363\u001b[0m \u001b[32m━━━━━━━━━━━━━━━━━━━━\u001b[0m\u001b[37m\u001b[0m \u001b[1m0s\u001b[0m 693us/step - RootMeanSquaredError: 0.5700 - loss: 0.3249 - val_RootMeanSquaredError: 1.0717 - val_loss: 1.1485\n"
     ]
    }
   ],
   "source": [
    "history = model.fit((X_train_wide,X_train_deep), y_train, epochs=20, validation_data=((X_valid_wide, X_valid_deep), y_valid))"
   ]
  },
  {
   "cell_type": "code",
   "execution_count": 400,
   "id": "d40afe7c-44f4-4b7c-8011-65877671015e",
   "metadata": {},
   "outputs": [
    {
     "name": "stdout",
     "output_type": "stream",
     "text": [
      "\u001b[1m162/162\u001b[0m \u001b[32m━━━━━━━━━━━━━━━━━━━━\u001b[0m\u001b[37m\u001b[0m \u001b[1m0s\u001b[0m 576us/step - RootMeanSquaredError: 0.5752 - loss: 0.3310\n"
     ]
    },
    {
     "data": {
      "text/plain": [
       "[0.3256673514842987, 0.5706726908683777]"
      ]
     },
     "execution_count": 400,
     "metadata": {},
     "output_type": "execute_result"
    }
   ],
   "source": [
    "mse_test = model.evaluate((X_test_wide, X_test_deep), y_test)\n",
    "mse_test"
   ]
  },
  {
   "cell_type": "code",
   "execution_count": 402,
   "id": "1cefc9a5-9017-4a99-81ad-56341a248d84",
   "metadata": {},
   "outputs": [
    {
     "name": "stdout",
     "output_type": "stream",
     "text": [
      "\u001b[1m1/1\u001b[0m \u001b[32m━━━━━━━━━━━━━━━━━━━━\u001b[0m\u001b[37m\u001b[0m \u001b[1m0s\u001b[0m 73ms/step\n"
     ]
    },
    {
     "data": {
      "text/plain": [
       "array([[0.4109966],\n",
       "       [1.5246751],\n",
       "       [3.3985288]], dtype=float32)"
      ]
     },
     "execution_count": 402,
     "metadata": {},
     "output_type": "execute_result"
    }
   ],
   "source": [
    "y_pred = model.predict((X_new_wide, X_new_deep))\n",
    "y_pred"
   ]
  },
  {
   "cell_type": "markdown",
   "id": "11ea7cdb-ab5b-4e4d-9e13-e8819208df96",
   "metadata": {},
   "source": [
    "## Modèle avec 2 entrées, 2 chemins (profond et large) et 2 sortie"
   ]
  },
  {
   "cell_type": "code",
   "execution_count": 437,
   "id": "fff705f4-c5af-4bf5-8858-d2d206a67154",
   "metadata": {},
   "outputs": [],
   "source": [
    "input_wide = tf.keras.layers.Input(shape=[5])  # 5 caractéristiques\n",
    "input_deep = tf.keras.layers.Input(shape=[6])  # 6 caractéristiques\n",
    "norm_layer_wide = tf.keras.layers.Normalization()\n",
    "norm_layer_deep = tf.keras.layers.Normalization()\n",
    "norm_wide = norm_layer_wide(input_wide)\n",
    "norm_deep = norm_layer_deep(input_deep)\n",
    "hidden1 = tf.keras.layers.Dense(30, activation='relu')(norm_deep)\n",
    "hidden2 = tf.keras.layers.Dense(30, activation='relu')(hidden1)\n",
    "concat = tf.keras.layers.concatenate([norm_wide, hidden2])\n",
    "output = tf.keras.layers.Dense(1)(concat)\n",
    "aux_output = tf.keras.layers.Dense(1)(hidden2)\n",
    "model = tf.keras.Model(inputs=[input_wide, input_deep], outputs=[output, aux_output])"
   ]
  },
  {
   "cell_type": "markdown",
   "id": "c2b0d116-82a5-42ec-838c-085363271f58",
   "metadata": {},
   "source": [
    "### Poids supérieur à la sortie principale car plus d'importance"
   ]
  },
  {
   "cell_type": "code",
   "execution_count": 440,
   "id": "92aaf896-fbde-4c2d-aeb6-9d4419e6e33b",
   "metadata": {},
   "outputs": [],
   "source": [
    "optimizer = tf.keras.optimizers.Adam(learning_rate=1e-3)\n",
    "model.compile(loss=('mse','mse'), loss_weights=(0.9,0.1), optimizer=optimizer, metrics=['RootMeanSquaredError', 'RootMeanSquaredError'])"
   ]
  },
  {
   "cell_type": "code",
   "execution_count": 442,
   "id": "1d8dd40a-88fb-41db-b9d3-7f8a49ef9976",
   "metadata": {},
   "outputs": [],
   "source": [
    "norm_layer_wide.adapt(X_train_wide)\n",
    "norm_layer_deep.adapt(X_train_deep)"
   ]
  },
  {
   "cell_type": "code",
   "execution_count": 444,
   "id": "93513620-70b4-44cb-82d1-8a51f0bbae30",
   "metadata": {},
   "outputs": [
    {
     "name": "stdout",
     "output_type": "stream",
     "text": [
      "Epoch 1/20\n",
      "\u001b[1m363/363\u001b[0m \u001b[32m━━━━━━━━━━━━━━━━━━━━\u001b[0m\u001b[37m\u001b[0m \u001b[1m2s\u001b[0m 2ms/step - dense_108_RootMeanSquaredError: 1.4400 - dense_108_loss: 1.9555 - dense_109_RootMeanSquaredError: 2.0503 - dense_109_loss: 0.4329 - loss: 2.3884 - val_dense_108_RootMeanSquaredError: 1.2108 - val_dense_108_loss: 1.3189 - val_dense_109_RootMeanSquaredError: 2.8368 - val_dense_109_loss: 0.8044 - val_loss: 2.1242\n",
      "Epoch 2/20\n",
      "\u001b[1m363/363\u001b[0m \u001b[32m━━━━━━━━━━━━━━━━━━━━\u001b[0m\u001b[37m\u001b[0m \u001b[1m0s\u001b[0m 1ms/step - dense_108_RootMeanSquaredError: 0.7187 - dense_108_loss: 0.4655 - dense_109_RootMeanSquaredError: 0.9786 - dense_109_loss: 0.0960 - loss: 0.5614 - val_dense_108_RootMeanSquaredError: 0.6441 - val_dense_108_loss: 0.3733 - val_dense_109_RootMeanSquaredError: 0.9176 - val_dense_109_loss: 0.0842 - val_loss: 0.4576\n",
      "Epoch 3/20\n",
      "\u001b[1m363/363\u001b[0m \u001b[32m━━━━━━━━━━━━━━━━━━━━\u001b[0m\u001b[37m\u001b[0m \u001b[1m0s\u001b[0m 922us/step - dense_108_RootMeanSquaredError: 0.6691 - dense_108_loss: 0.4032 - dense_109_RootMeanSquaredError: 0.8077 - dense_109_loss: 0.0653 - loss: 0.4685 - val_dense_108_RootMeanSquaredError: 0.6165 - val_dense_108_loss: 0.3420 - val_dense_109_RootMeanSquaredError: 0.7707 - val_dense_109_loss: 0.0594 - val_loss: 0.4015\n",
      "Epoch 4/20\n",
      "\u001b[1m363/363\u001b[0m \u001b[32m━━━━━━━━━━━━━━━━━━━━\u001b[0m\u001b[37m\u001b[0m \u001b[1m0s\u001b[0m 950us/step - dense_108_RootMeanSquaredError: 0.6471 - dense_108_loss: 0.3770 - dense_109_RootMeanSquaredError: 0.7615 - dense_109_loss: 0.0580 - loss: 0.4350 - val_dense_108_RootMeanSquaredError: 0.7102 - val_dense_108_loss: 0.4538 - val_dense_109_RootMeanSquaredError: 0.7602 - val_dense_109_loss: 0.0578 - val_loss: 0.5117\n",
      "Epoch 5/20\n",
      "\u001b[1m363/363\u001b[0m \u001b[32m━━━━━━━━━━━━━━━━━━━━\u001b[0m\u001b[37m\u001b[0m \u001b[1m0s\u001b[0m 941us/step - dense_108_RootMeanSquaredError: 0.6345 - dense_108_loss: 0.3625 - dense_109_RootMeanSquaredError: 0.7433 - dense_109_loss: 0.0553 - loss: 0.4177 - val_dense_108_RootMeanSquaredError: 0.6643 - val_dense_108_loss: 0.3970 - val_dense_109_RootMeanSquaredError: 0.7817 - val_dense_109_loss: 0.0611 - val_loss: 0.4583\n",
      "Epoch 6/20\n",
      "\u001b[1m363/363\u001b[0m \u001b[32m━━━━━━━━━━━━━━━━━━━━\u001b[0m\u001b[37m\u001b[0m \u001b[1m0s\u001b[0m 913us/step - dense_108_RootMeanSquaredError: 0.6244 - dense_108_loss: 0.3510 - dense_109_RootMeanSquaredError: 0.7306 - dense_109_loss: 0.0534 - loss: 0.4044 - val_dense_108_RootMeanSquaredError: 0.9468 - val_dense_108_loss: 0.8065 - val_dense_109_RootMeanSquaredError: 0.9257 - val_dense_109_loss: 0.0857 - val_loss: 0.8925\n",
      "Epoch 7/20\n",
      "\u001b[1m363/363\u001b[0m \u001b[32m━━━━━━━━━━━━━━━━━━━━\u001b[0m\u001b[37m\u001b[0m \u001b[1m0s\u001b[0m 1ms/step - dense_108_RootMeanSquaredError: 0.6154 - dense_108_loss: 0.3410 - dense_109_RootMeanSquaredError: 0.7143 - dense_109_loss: 0.0510 - loss: 0.3921 - val_dense_108_RootMeanSquaredError: 0.5913 - val_dense_108_loss: 0.3146 - val_dense_109_RootMeanSquaredError: 0.7766 - val_dense_109_loss: 0.0603 - val_loss: 0.3750\n",
      "Epoch 8/20\n",
      "\u001b[1m363/363\u001b[0m \u001b[32m━━━━━━━━━━━━━━━━━━━━\u001b[0m\u001b[37m\u001b[0m \u001b[1m0s\u001b[0m 795us/step - dense_108_RootMeanSquaredError: 0.6093 - dense_108_loss: 0.3343 - dense_109_RootMeanSquaredError: 0.7000 - dense_109_loss: 0.0490 - loss: 0.3833 - val_dense_108_RootMeanSquaredError: 1.5140 - val_dense_108_loss: 2.0621 - val_dense_109_RootMeanSquaredError: 1.0600 - val_dense_109_loss: 0.1123 - val_loss: 2.1754\n",
      "Epoch 9/20\n",
      "\u001b[1m363/363\u001b[0m \u001b[32m━━━━━━━━━━━━━━━━━━━━\u001b[0m\u001b[37m\u001b[0m \u001b[1m0s\u001b[0m 878us/step - dense_108_RootMeanSquaredError: 0.6061 - dense_108_loss: 0.3307 - dense_109_RootMeanSquaredError: 0.6884 - dense_109_loss: 0.0474 - loss: 0.3782 - val_dense_108_RootMeanSquaredError: 1.6395 - val_dense_108_loss: 2.4181 - val_dense_109_RootMeanSquaredError: 1.6625 - val_dense_109_loss: 0.2763 - val_loss: 2.6956\n",
      "Epoch 10/20\n",
      "\u001b[1m363/363\u001b[0m \u001b[32m━━━━━━━━━━━━━━━━━━━━\u001b[0m\u001b[37m\u001b[0m \u001b[1m0s\u001b[0m 951us/step - dense_108_RootMeanSquaredError: 0.6037 - dense_108_loss: 0.3281 - dense_109_RootMeanSquaredError: 0.6811 - dense_109_loss: 0.0464 - loss: 0.3745 - val_dense_108_RootMeanSquaredError: 1.5830 - val_dense_108_loss: 2.2542 - val_dense_109_RootMeanSquaredError: 1.6100 - val_dense_109_loss: 0.2591 - val_loss: 2.5145\n",
      "Epoch 11/20\n",
      "\u001b[1m363/363\u001b[0m \u001b[32m━━━━━━━━━━━━━━━━━━━━\u001b[0m\u001b[37m\u001b[0m \u001b[1m0s\u001b[0m 811us/step - dense_108_RootMeanSquaredError: 0.5976 - dense_108_loss: 0.3215 - dense_109_RootMeanSquaredError: 0.6717 - dense_109_loss: 0.0451 - loss: 0.3667 - val_dense_108_RootMeanSquaredError: 1.5279 - val_dense_108_loss: 2.1000 - val_dense_109_RootMeanSquaredError: 1.3656 - val_dense_109_loss: 0.1864 - val_loss: 2.2875\n",
      "Epoch 12/20\n",
      "\u001b[1m363/363\u001b[0m \u001b[32m━━━━━━━━━━━━━━━━━━━━\u001b[0m\u001b[37m\u001b[0m \u001b[1m0s\u001b[0m 897us/step - dense_108_RootMeanSquaredError: 0.5942 - dense_108_loss: 0.3179 - dense_109_RootMeanSquaredError: 0.6624 - dense_109_loss: 0.0439 - loss: 0.3618 - val_dense_108_RootMeanSquaredError: 1.4355 - val_dense_108_loss: 1.8537 - val_dense_109_RootMeanSquaredError: 1.0681 - val_dense_109_loss: 0.1140 - val_loss: 1.9686\n",
      "Epoch 13/20\n",
      "\u001b[1m363/363\u001b[0m \u001b[32m━━━━━━━━━━━━━━━━━━━━\u001b[0m\u001b[37m\u001b[0m \u001b[1m0s\u001b[0m 850us/step - dense_108_RootMeanSquaredError: 0.5895 - dense_108_loss: 0.3128 - dense_109_RootMeanSquaredError: 0.6566 - dense_109_loss: 0.0431 - loss: 0.3559 - val_dense_108_RootMeanSquaredError: 1.2832 - val_dense_108_loss: 1.4813 - val_dense_109_RootMeanSquaredError: 1.2947 - val_dense_109_loss: 0.1676 - val_loss: 1.6496\n",
      "Epoch 14/20\n",
      "\u001b[1m363/363\u001b[0m \u001b[32m━━━━━━━━━━━━━━━━━━━━\u001b[0m\u001b[37m\u001b[0m \u001b[1m0s\u001b[0m 818us/step - dense_108_RootMeanSquaredError: 0.5866 - dense_108_loss: 0.3098 - dense_109_RootMeanSquaredError: 0.6509 - dense_109_loss: 0.0424 - loss: 0.3521 - val_dense_108_RootMeanSquaredError: 2.2609 - val_dense_108_loss: 4.5982 - val_dense_109_RootMeanSquaredError: 2.3703 - val_dense_109_loss: 0.5615 - val_loss: 5.1623\n",
      "Epoch 15/20\n",
      "\u001b[1m363/363\u001b[0m \u001b[32m━━━━━━━━━━━━━━━━━━━━\u001b[0m\u001b[37m\u001b[0m \u001b[1m1s\u001b[0m 1ms/step - dense_108_RootMeanSquaredError: 0.5915 - dense_108_loss: 0.3150 - dense_109_RootMeanSquaredError: 0.6581 - dense_109_loss: 0.0433 - loss: 0.3584 - val_dense_108_RootMeanSquaredError: 2.1422 - val_dense_108_loss: 4.1282 - val_dense_109_RootMeanSquaredError: 2.6647 - val_dense_109_loss: 0.7097 - val_loss: 4.8403\n",
      "Epoch 16/20\n",
      "\u001b[1m363/363\u001b[0m \u001b[32m━━━━━━━━━━━━━━━━━━━━\u001b[0m\u001b[37m\u001b[0m \u001b[1m0s\u001b[0m 870us/step - dense_108_RootMeanSquaredError: 0.5920 - dense_108_loss: 0.3156 - dense_109_RootMeanSquaredError: 0.6563 - dense_109_loss: 0.0431 - loss: 0.3587 - val_dense_108_RootMeanSquaredError: 1.0362 - val_dense_108_loss: 0.9659 - val_dense_109_RootMeanSquaredError: 1.0571 - val_dense_109_loss: 0.1117 - val_loss: 1.0780\n",
      "Epoch 17/20\n",
      "\u001b[1m363/363\u001b[0m \u001b[32m━━━━━━━━━━━━━━━━━━━━\u001b[0m\u001b[37m\u001b[0m \u001b[1m0s\u001b[0m 910us/step - dense_108_RootMeanSquaredError: 0.5782 - dense_108_loss: 0.3010 - dense_109_RootMeanSquaredError: 0.6398 - dense_109_loss: 0.0409 - loss: 0.3419 - val_dense_108_RootMeanSquaredError: 0.7496 - val_dense_108_loss: 0.5055 - val_dense_109_RootMeanSquaredError: 0.9770 - val_dense_109_loss: 0.0954 - val_loss: 0.6012\n",
      "Epoch 18/20\n",
      "\u001b[1m363/363\u001b[0m \u001b[32m━━━━━━━━━━━━━━━━━━━━\u001b[0m\u001b[37m\u001b[0m \u001b[1m0s\u001b[0m 834us/step - dense_108_RootMeanSquaredError: 0.5754 - dense_108_loss: 0.2980 - dense_109_RootMeanSquaredError: 0.6332 - dense_109_loss: 0.0401 - loss: 0.3381 - val_dense_108_RootMeanSquaredError: 0.6321 - val_dense_108_loss: 0.3594 - val_dense_109_RootMeanSquaredError: 0.6282 - val_dense_109_loss: 0.0395 - val_loss: 0.3990\n",
      "Epoch 19/20\n",
      "\u001b[1m363/363\u001b[0m \u001b[32m━━━━━━━━━━━━━━━━━━━━\u001b[0m\u001b[37m\u001b[0m \u001b[1m0s\u001b[0m 824us/step - dense_108_RootMeanSquaredError: 0.5729 - dense_108_loss: 0.2955 - dense_109_RootMeanSquaredError: 0.6294 - dense_109_loss: 0.0396 - loss: 0.3351 - val_dense_108_RootMeanSquaredError: 0.6861 - val_dense_108_loss: 0.4235 - val_dense_109_RootMeanSquaredError: 0.9378 - val_dense_109_loss: 0.0879 - val_loss: 0.5116\n",
      "Epoch 20/20\n",
      "\u001b[1m363/363\u001b[0m \u001b[32m━━━━━━━━━━━━━━━━━━━━\u001b[0m\u001b[37m\u001b[0m \u001b[1m0s\u001b[0m 826us/step - dense_108_RootMeanSquaredError: 0.5724 - dense_108_loss: 0.2949 - dense_109_RootMeanSquaredError: 0.6278 - dense_109_loss: 0.0394 - loss: 0.3343 - val_dense_108_RootMeanSquaredError: 0.9120 - val_dense_108_loss: 0.7483 - val_dense_109_RootMeanSquaredError: 0.8014 - val_dense_109_loss: 0.0642 - val_loss: 0.8129\n"
     ]
    }
   ],
   "source": [
    "history = model.fit((X_train_wide, X_train_deep), (y_train, y_train), epochs=20, validation_data=((X_valid_wide, X_valid_deep), (y_valid, y_valid)))"
   ]
  },
  {
   "cell_type": "code",
   "execution_count": 448,
   "id": "431b1861-920d-4935-bc1b-abc35da3d08a",
   "metadata": {},
   "outputs": [
    {
     "name": "stdout",
     "output_type": "stream",
     "text": [
      "\u001b[1m162/162\u001b[0m \u001b[32m━━━━━━━━━━━━━━━━━━━━\u001b[0m\u001b[37m\u001b[0m \u001b[1m0s\u001b[0m 750us/step - dense_108_RootMeanSquaredError: 0.5753 - dense_108_loss: 0.2980 - dense_109_RootMeanSquaredError: 0.6341 - dense_109_loss: 0.0402 - loss: 0.3382\n"
     ]
    }
   ],
   "source": [
    "eval_results = model.evaluate((X_test_wide, X_test_deep), (y_test,y_test))\n",
    "weighted_sum_of_losses, main_loss, aux_loss, main_rmse, aux_rmse = eval_results"
   ]
  },
  {
   "cell_type": "code",
   "execution_count": 450,
   "id": "783ee834-0004-4271-9a6d-2ce844453d9b",
   "metadata": {},
   "outputs": [
    {
     "name": "stdout",
     "output_type": "stream",
     "text": [
      "0.3377401828765869\n",
      "0.29734939336776733\n",
      "0.0401567667722702\n",
      "0.5750682950019836\n",
      "0.6333006024360657\n"
     ]
    }
   ],
   "source": [
    "print(weighted_sum_of_losses)\n",
    "print(main_loss)\n",
    "print(aux_loss)\n",
    "print(main_rmse)\n",
    "print(aux_rmse)"
   ]
  },
  {
   "cell_type": "code",
   "execution_count": 452,
   "id": "6958c912-010a-49ed-8144-9cb3c28abc81",
   "metadata": {},
   "outputs": [
    {
     "name": "stdout",
     "output_type": "stream",
     "text": [
      "WARNING:tensorflow:5 out of the last 5 calls to <function TensorFlowTrainer.make_predict_function.<locals>.one_step_on_data_distributed at 0x000001E110751940> triggered tf.function retracing. Tracing is expensive and the excessive number of tracings could be due to (1) creating @tf.function repeatedly in a loop, (2) passing tensors with different shapes, (3) passing Python objects instead of tensors. For (1), please define your @tf.function outside of the loop. For (2), @tf.function has reduce_retracing=True option that can avoid unnecessary retracing. For (3), please refer to https://www.tensorflow.org/guide/function#controlling_retracing and https://www.tensorflow.org/api_docs/python/tf/function for  more details.\n",
      "\u001b[1m1/1\u001b[0m \u001b[32m━━━━━━━━━━━━━━━━━━━━\u001b[0m\u001b[37m\u001b[0m \u001b[1m0s\u001b[0m 64ms/step\n"
     ]
    }
   ],
   "source": [
    "y_pred_main, y_pred_aux = model.predict((X_new_wide, X_new_deep))"
   ]
  },
  {
   "cell_type": "code",
   "execution_count": 454,
   "id": "9304e2a1-a8b3-4abf-8b47-865e27bce627",
   "metadata": {},
   "outputs": [
    {
     "name": "stdout",
     "output_type": "stream",
     "text": [
      "[[0.2497235]\n",
      " [1.0646936]\n",
      " [3.5854254]]\n",
      "[[0.35192257]\n",
      " [1.0195955 ]\n",
      " [3.3209963 ]]\n"
     ]
    }
   ],
   "source": [
    "print(y_pred_main)\n",
    "print(y_pred_aux)"
   ]
  },
  {
   "cell_type": "code",
   "execution_count": 458,
   "id": "0ae3f944-b0c8-4dbe-b615-9abc3dff245a",
   "metadata": {},
   "outputs": [
    {
     "name": "stdout",
     "output_type": "stream",
     "text": [
      "\u001b[1m1/1\u001b[0m \u001b[32m━━━━━━━━━━━━━━━━━━━━\u001b[0m\u001b[37m\u001b[0m \u001b[1m0s\u001b[0m 69ms/step\n"
     ]
    }
   ],
   "source": [
    "y_pred_tuple = model.predict((X_new_wide, X_new_deep))\n",
    "y_pred = dict(zip(model.output_names, y_pred_tuple))"
   ]
  },
  {
   "cell_type": "code",
   "execution_count": 460,
   "id": "982ac6a1-4107-483d-9a3d-5ae6f457ff0e",
   "metadata": {},
   "outputs": [
    {
     "data": {
      "text/plain": [
       "{'dense_108': array([[0.2497235],\n",
       "        [1.0646936],\n",
       "        [3.5854254]], dtype=float32),\n",
       " 'dense_109': array([[0.35192257],\n",
       "        [1.0195955 ],\n",
       "        [3.3209963 ]], dtype=float32)}"
      ]
     },
     "execution_count": 460,
     "metadata": {},
     "output_type": "execute_result"
    }
   ],
   "source": [
    "y_pred"
   ]
  },
  {
   "cell_type": "markdown",
   "id": "5d3488fd-b37d-44f1-8d1f-c4c026255e52",
   "metadata": {},
   "source": [
    "# Modèle avec API de sous-classement"
   ]
  },
  {
   "cell_type": "code",
   "execution_count": 529,
   "id": "f7296708-b4b8-42e2-a51e-fdb1d7c087b1",
   "metadata": {},
   "outputs": [],
   "source": [
    "@tf.keras.utils.register_keras_serializable()\n",
    "\n",
    "class WideAndDeepModel (tf.keras.Model) : \n",
    "\n",
    "    # Constructeur\n",
    "    def __init__(self, units=30, activation='relu', **kwargs):\n",
    "        super().__init__(**kwargs)\n",
    "        self.norm_layer_wide = tf.keras.layers.Normalization()\n",
    "        self.norm_layer_deep = tf.keras.layers.Normalization()\n",
    "        self.hidden1 = tf.keras.layers.Dense(units, activation=activation)\n",
    "        self.hidden2 = tf.keras.layers.Dense(units, activation=activation)\n",
    "        self.main_output = tf.keras.layers.Dense(1)\n",
    "        self.aux_output = tf.keras.layers.Dense(1)\n",
    "\n",
    "    def call(self, inputs):\n",
    "        input_wide, input_deep = inputs \n",
    "        norm_wide = self.norm_layer_wide(input_wide)\n",
    "        norm_deep = self.norm_layer_deep(input_deep)\n",
    "        hidden1 = self.hidden1(norm_deep)\n",
    "        hidden2 = self.hidden2(hidden1)\n",
    "        concat = tf.keras.layers.concatenate([norm_wide, hidden2])\n",
    "        output = self.main_output(concat)\n",
    "        aux_output = self.aux_output(hidden2)\n",
    "        return output, aux_output\n",
    "\n",
    "model = WideAndDeepModel(30, activation='relu', name='my_cool_model')"
   ]
  },
  {
   "cell_type": "code",
   "execution_count": 531,
   "id": "fad2eb96-8789-4094-850e-80be996c5820",
   "metadata": {},
   "outputs": [],
   "source": [
    "optimizer = tf.keras.optimizers.Adam(learning_rate=1e-3)\n",
    "model.compile(loss=('mse','mse'), loss_weights=(0.9,0.1), optimizer=optimizer, metrics=['RootMeanSquaredError', 'RootMeanSquaredError'])"
   ]
  },
  {
   "cell_type": "code",
   "execution_count": 533,
   "id": "04d8d62a-975c-4763-ab50-f347762a60ea",
   "metadata": {},
   "outputs": [],
   "source": [
    "model.norm_layer_wide.adapt(X_train_wide)\n",
    "model.norm_layer_deep.adapt(X_train_deep)"
   ]
  },
  {
   "cell_type": "code",
   "execution_count": 535,
   "id": "614269dc-4847-46da-ba8d-62cf66ce20f8",
   "metadata": {},
   "outputs": [
    {
     "name": "stdout",
     "output_type": "stream",
     "text": [
      "Epoch 1/20\n",
      "\u001b[1m363/363\u001b[0m \u001b[32m━━━━━━━━━━━━━━━━━━━━\u001b[0m\u001b[37m\u001b[0m \u001b[1m4s\u001b[0m 2ms/step - RootMeanSquaredError: 1.8396 - RootMeanSquaredError_1: 1.9130 - loss: 3.5488 - mse_loss: 0.3720 - val_RootMeanSquaredError: 1.1773 - val_RootMeanSquaredError_1: 2.8882 - val_loss: 2.0816 - val_mse_loss: 0.8338\n",
      "Epoch 2/20\n",
      "\u001b[1m363/363\u001b[0m \u001b[32m━━━━━━━━━━━━━━━━━━━━\u001b[0m\u001b[37m\u001b[0m \u001b[1m1s\u001b[0m 1ms/step - RootMeanSquaredError: 0.7970 - RootMeanSquaredError_1: 0.8794 - loss: 0.6497 - mse_loss: 0.0774 - val_RootMeanSquaredError: 0.9903 - val_RootMeanSquaredError_1: 1.0241 - val_loss: 0.9875 - val_mse_loss: 0.1048\n",
      "Epoch 3/20\n",
      "\u001b[1m363/363\u001b[0m \u001b[32m━━━━━━━━━━━━━━━━━━━━\u001b[0m\u001b[37m\u001b[0m \u001b[1m0s\u001b[0m 1ms/step - RootMeanSquaredError: 0.7096 - RootMeanSquaredError_1: 0.7809 - loss: 0.5143 - mse_loss: 0.0610 - val_RootMeanSquaredError: 1.5798 - val_RootMeanSquaredError_1: 0.7769 - val_loss: 2.3067 - val_mse_loss: 0.0603\n",
      "Epoch 4/20\n",
      "\u001b[1m363/363\u001b[0m \u001b[32m━━━━━━━━━━━━━━━━━━━━\u001b[0m\u001b[37m\u001b[0m \u001b[1m0s\u001b[0m 966us/step - RootMeanSquaredError: 0.6773 - RootMeanSquaredError_1: 0.7595 - loss: 0.4707 - mse_loss: 0.0577 - val_RootMeanSquaredError: 1.8530 - val_RootMeanSquaredError_1: 1.1028 - val_loss: 3.2120 - val_mse_loss: 0.1216\n",
      "Epoch 5/20\n",
      "\u001b[1m363/363\u001b[0m \u001b[32m━━━━━━━━━━━━━━━━━━━━\u001b[0m\u001b[37m\u001b[0m \u001b[1m0s\u001b[0m 1ms/step - RootMeanSquaredError: 0.6604 - RootMeanSquaredError_1: 0.7450 - loss: 0.4481 - mse_loss: 0.0555 - val_RootMeanSquaredError: 2.1964 - val_RootMeanSquaredError_1: 0.9611 - val_loss: 4.4342 - val_mse_loss: 0.0923\n",
      "Epoch 6/20\n",
      "\u001b[1m363/363\u001b[0m \u001b[32m━━━━━━━━━━━━━━━━━━━━\u001b[0m\u001b[37m\u001b[0m \u001b[1m1s\u001b[0m 1ms/step - RootMeanSquaredError: 0.6468 - RootMeanSquaredError_1: 0.7370 - loss: 0.4310 - mse_loss: 0.0543 - val_RootMeanSquaredError: 2.0691 - val_RootMeanSquaredError_1: 1.2000 - val_loss: 3.9969 - val_mse_loss: 0.1439\n",
      "Epoch 7/20\n",
      "\u001b[1m363/363\u001b[0m \u001b[32m━━━━━━━━━━━━━━━━━━━━\u001b[0m\u001b[37m\u001b[0m \u001b[1m0s\u001b[0m 969us/step - RootMeanSquaredError: 0.6387 - RootMeanSquaredError_1: 0.7238 - loss: 0.4196 - mse_loss: 0.0524 - val_RootMeanSquaredError: 1.8850 - val_RootMeanSquaredError_1: 0.9017 - val_loss: 3.2793 - val_mse_loss: 0.0813\n",
      "Epoch 8/20\n",
      "\u001b[1m363/363\u001b[0m \u001b[32m━━━━━━━━━━━━━━━━━━━━\u001b[0m\u001b[37m\u001b[0m \u001b[1m0s\u001b[0m 904us/step - RootMeanSquaredError: 0.6268 - RootMeanSquaredError_1: 0.7116 - loss: 0.4043 - mse_loss: 0.0507 - val_RootMeanSquaredError: 1.4367 - val_RootMeanSquaredError_1: 0.8464 - val_loss: 1.9293 - val_mse_loss: 0.0716\n",
      "Epoch 9/20\n",
      "\u001b[1m363/363\u001b[0m \u001b[32m━━━━━━━━━━━━━━━━━━━━\u001b[0m\u001b[37m\u001b[0m \u001b[1m0s\u001b[0m 855us/step - RootMeanSquaredError: 0.6171 - RootMeanSquaredError_1: 0.6971 - loss: 0.3914 - mse_loss: 0.0486 - val_RootMeanSquaredError: 1.2618 - val_RootMeanSquaredError_1: 0.7053 - val_loss: 1.4826 - val_mse_loss: 0.0497\n",
      "Epoch 10/20\n",
      "\u001b[1m363/363\u001b[0m \u001b[32m━━━━━━━━━━━━━━━━━━━━\u001b[0m\u001b[37m\u001b[0m \u001b[1m0s\u001b[0m 811us/step - RootMeanSquaredError: 0.6092 - RootMeanSquaredError_1: 0.6864 - loss: 0.3813 - mse_loss: 0.0471 - val_RootMeanSquaredError: 1.1078 - val_RootMeanSquaredError_1: 0.7979 - val_loss: 1.1681 - val_mse_loss: 0.0637\n",
      "Epoch 11/20\n",
      "\u001b[1m363/363\u001b[0m \u001b[32m━━━━━━━━━━━━━━━━━━━━\u001b[0m\u001b[37m\u001b[0m \u001b[1m0s\u001b[0m 876us/step - RootMeanSquaredError: 0.6036 - RootMeanSquaredError_1: 0.6750 - loss: 0.3735 - mse_loss: 0.0456 - val_RootMeanSquaredError: 1.1301 - val_RootMeanSquaredError_1: 0.6649 - val_loss: 1.1937 - val_mse_loss: 0.0442\n",
      "Epoch 12/20\n",
      "\u001b[1m363/363\u001b[0m \u001b[32m━━━━━━━━━━━━━━━━━━━━\u001b[0m\u001b[37m\u001b[0m \u001b[1m0s\u001b[0m 1ms/step - RootMeanSquaredError: 0.5987 - RootMeanSquaredError_1: 0.6660 - loss: 0.3671 - mse_loss: 0.0444 - val_RootMeanSquaredError: 1.3110 - val_RootMeanSquaredError_1: 1.1354 - val_loss: 1.6758 - val_mse_loss: 0.1289\n",
      "Epoch 13/20\n",
      "\u001b[1m363/363\u001b[0m \u001b[32m━━━━━━━━━━━━━━━━━━━━\u001b[0m\u001b[37m\u001b[0m \u001b[1m0s\u001b[0m 861us/step - RootMeanSquaredError: 0.5976 - RootMeanSquaredError_1: 0.6600 - loss: 0.3651 - mse_loss: 0.0436 - val_RootMeanSquaredError: 1.6351 - val_RootMeanSquaredError_1: 1.0347 - val_loss: 2.5133 - val_mse_loss: 0.1070\n",
      "Epoch 14/20\n",
      "\u001b[1m363/363\u001b[0m \u001b[32m━━━━━━━━━━━━━━━━━━━━\u001b[0m\u001b[37m\u001b[0m \u001b[1m1s\u001b[0m 1ms/step - RootMeanSquaredError: 0.5966 - RootMeanSquaredError_1: 0.6537 - loss: 0.3632 - mse_loss: 0.0427 - val_RootMeanSquaredError: 1.5943 - val_RootMeanSquaredError_1: 1.2729 - val_loss: 2.4496 - val_mse_loss: 0.1620\n",
      "Epoch 15/20\n",
      "\u001b[1m363/363\u001b[0m \u001b[32m━━━━━━━━━━━━━━━━━━━━\u001b[0m\u001b[37m\u001b[0m \u001b[1m1s\u001b[0m 1ms/step - RootMeanSquaredError: 0.5937 - RootMeanSquaredError_1: 0.6486 - loss: 0.3594 - mse_loss: 0.0421 - val_RootMeanSquaredError: 1.5475 - val_RootMeanSquaredError_1: 1.2738 - val_loss: 2.3175 - val_mse_loss: 0.1622\n",
      "Epoch 16/20\n",
      "\u001b[1m363/363\u001b[0m \u001b[32m━━━━━━━━━━━━━━━━━━━━\u001b[0m\u001b[37m\u001b[0m \u001b[1m0s\u001b[0m 1ms/step - RootMeanSquaredError: 0.5902 - RootMeanSquaredError_1: 0.6440 - loss: 0.3551 - mse_loss: 0.0415 - val_RootMeanSquaredError: 1.5692 - val_RootMeanSquaredError_1: 1.9203 - val_loss: 2.5849 - val_mse_loss: 0.3686\n",
      "Epoch 17/20\n",
      "\u001b[1m363/363\u001b[0m \u001b[32m━━━━━━━━━━━━━━━━━━━━\u001b[0m\u001b[37m\u001b[0m \u001b[1m0s\u001b[0m 1ms/step - RootMeanSquaredError: 0.5886 - RootMeanSquaredError_1: 0.6438 - loss: 0.3533 - mse_loss: 0.0415 - val_RootMeanSquaredError: 1.3071 - val_RootMeanSquaredError_1: 1.0656 - val_loss: 1.6511 - val_mse_loss: 0.1135\n",
      "Epoch 18/20\n",
      "\u001b[1m363/363\u001b[0m \u001b[32m━━━━━━━━━━━━━━━━━━━━\u001b[0m\u001b[37m\u001b[0m \u001b[1m0s\u001b[0m 1ms/step - RootMeanSquaredError: 0.5843 - RootMeanSquaredError_1: 0.6351 - loss: 0.3477 - mse_loss: 0.0403 - val_RootMeanSquaredError: 1.1709 - val_RootMeanSquaredError_1: 1.2471 - val_loss: 1.3895 - val_mse_loss: 0.1555\n",
      "Epoch 19/20\n",
      "\u001b[1m363/363\u001b[0m \u001b[32m━━━━━━━━━━━━━━━━━━━━\u001b[0m\u001b[37m\u001b[0m \u001b[1m0s\u001b[0m 1ms/step - RootMeanSquaredError: 0.5813 - RootMeanSquaredError_1: 0.6311 - loss: 0.3440 - mse_loss: 0.0398 - val_RootMeanSquaredError: 0.9286 - val_RootMeanSquaredError_1: 0.7235 - val_loss: 0.8284 - val_mse_loss: 0.0523\n",
      "Epoch 20/20\n",
      "\u001b[1m363/363\u001b[0m \u001b[32m━━━━━━━━━━━━━━━━━━━━\u001b[0m\u001b[37m\u001b[0m \u001b[1m0s\u001b[0m 1ms/step - RootMeanSquaredError: 0.5781 - RootMeanSquaredError_1: 0.6265 - loss: 0.3401 - mse_loss: 0.0393 - val_RootMeanSquaredError: 0.9658 - val_RootMeanSquaredError_1: 1.0977 - val_loss: 0.9600 - val_mse_loss: 0.1205\n"
     ]
    }
   ],
   "source": [
    "history = model.fit((X_train_wide, X_train_deep), (y_train, y_train), epochs=20, validation_data=((X_valid_wide, X_valid_deep), (y_valid, y_valid)))"
   ]
  },
  {
   "cell_type": "code",
   "execution_count": 537,
   "id": "554f3049-6ca3-4f49-8dde-014cfff60d20",
   "metadata": {},
   "outputs": [
    {
     "name": "stdout",
     "output_type": "stream",
     "text": [
      "\u001b[1m1/1\u001b[0m \u001b[32m━━━━━━━━━━━━━━━━━━━━\u001b[0m\u001b[37m\u001b[0m \u001b[1m0s\u001b[0m 113ms/step\n"
     ]
    }
   ],
   "source": [
    "y_pred_main, y_pred_aux = model.predict((X_new_wide, X_new_deep))"
   ]
  },
  {
   "cell_type": "code",
   "execution_count": 539,
   "id": "e2b482e7-0c7a-4a8b-9f90-0d137237d942",
   "metadata": {},
   "outputs": [
    {
     "name": "stdout",
     "output_type": "stream",
     "text": [
      "[[0.32673165]\n",
      " [1.4325111 ]\n",
      " [3.6328325 ]]\n",
      "[[0.65761685]\n",
      " [1.3355799 ]\n",
      " [3.4504893 ]]\n"
     ]
    }
   ],
   "source": [
    "print(y_pred_main)\n",
    "print(y_pred_aux)"
   ]
  },
  {
   "cell_type": "markdown",
   "id": "5c3be5c6-438f-402f-828c-cf6bdf36ae39",
   "metadata": {},
   "source": [
    "# Sauvergarde du modèle"
   ]
  },
  {
   "cell_type": "code",
   "execution_count": 542,
   "id": "00887c7a-e680-45ff-879a-568998e22f3a",
   "metadata": {},
   "outputs": [],
   "source": [
    "model.save('my_keras_model.keras')"
   ]
  },
  {
   "cell_type": "code",
   "execution_count": 544,
   "id": "218d9797-718d-4815-b53b-a1573175c3c7",
   "metadata": {},
   "outputs": [
    {
     "name": "stderr",
     "output_type": "stream",
     "text": [
      "WARNING:absl:You are saving your model as an HDF5 file via `model.save()` or `keras.saving.save_model(model)`. This file format is considered legacy. We recommend using instead the native Keras format, e.g. `model.save('my_model.keras')` or `keras.saving.save_model(model, 'my_model.keras')`. \n"
     ]
    }
   ],
   "source": [
    "model.save('my_keras_model.h5')"
   ]
  },
  {
   "cell_type": "markdown",
   "id": "fb1215f0-abdf-4a95-86b2-33c15a69d59d",
   "metadata": {},
   "source": [
    "# Chargement du modèle"
   ]
  },
  {
   "cell_type": "code",
   "execution_count": 547,
   "id": "cfd60469-9d26-4fa8-b10f-165c7b9e6a23",
   "metadata": {},
   "outputs": [
    {
     "name": "stdout",
     "output_type": "stream",
     "text": [
      "WARNING:tensorflow:From C:\\Users\\nicolas.sales\\AppData\\Local\\anaconda3\\Lib\\site-packages\\keras\\src\\backend\\tensorflow\\core.py:204: The name tf.placeholder is deprecated. Please use tf.compat.v1.placeholder instead.\n",
      "\n"
     ]
    },
    {
     "name": "stderr",
     "output_type": "stream",
     "text": [
      "WARNING:tensorflow:From C:\\Users\\nicolas.sales\\AppData\\Local\\anaconda3\\Lib\\site-packages\\keras\\src\\backend\\tensorflow\\core.py:204: The name tf.placeholder is deprecated. Please use tf.compat.v1.placeholder instead.\n",
      "\n"
     ]
    }
   ],
   "source": [
    "model = tf.keras.models.load_model('my_keras_model.keras')"
   ]
  },
  {
   "cell_type": "code",
   "execution_count": 549,
   "id": "5bc5e8d0-f4d7-4cd1-a2dc-a7b5bcfcd5f9",
   "metadata": {},
   "outputs": [
    {
     "name": "stdout",
     "output_type": "stream",
     "text": [
      "\u001b[1m1/1\u001b[0m \u001b[32m━━━━━━━━━━━━━━━━━━━━\u001b[0m\u001b[37m\u001b[0m \u001b[1m0s\u001b[0m 93ms/step\n"
     ]
    }
   ],
   "source": [
    "y_pred_main, y_pred_aux = model.predict((X_new_wide, X_new_deep))"
   ]
  },
  {
   "cell_type": "code",
   "execution_count": 551,
   "id": "cb4e602d-2bf8-4a99-b488-0d70c1295033",
   "metadata": {},
   "outputs": [
    {
     "name": "stdout",
     "output_type": "stream",
     "text": [
      "[[0.32673165]\n",
      " [1.4325111 ]\n",
      " [3.6328325 ]]\n",
      "[[0.65761685]\n",
      " [1.3355799 ]\n",
      " [3.4504893 ]]\n"
     ]
    }
   ],
   "source": [
    "print(y_pred_main)\n",
    "print(y_pred_aux)"
   ]
  },
  {
   "cell_type": "code",
   "execution_count": null,
   "id": "ba6a6c34-4e82-4322-96da-25a313597f6b",
   "metadata": {},
   "outputs": [],
   "source": []
  }
 ],
 "metadata": {
  "kernelspec": {
   "display_name": "Python 3 (ipykernel)",
   "language": "python",
   "name": "python3"
  },
  "language_info": {
   "codemirror_mode": {
    "name": "ipython",
    "version": 3
   },
   "file_extension": ".py",
   "mimetype": "text/x-python",
   "name": "python",
   "nbconvert_exporter": "python",
   "pygments_lexer": "ipython3",
   "version": "3.12.4"
  }
 },
 "nbformat": 4,
 "nbformat_minor": 5
}
